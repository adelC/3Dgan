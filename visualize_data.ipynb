{
 "cells": [
  {
   "cell_type": "code",
   "execution_count": 2,
   "metadata": {},
   "outputs": [],
   "source": [
    "import numpy as np\n",
    "import tensorflow as tf\n",
    "from PIL import Image\n",
    "import h5py\n",
    "from numpy import asarray\n",
    "import cv2"
   ]
  },
  {
   "cell_type": "code",
   "execution_count": 3,
   "metadata": {},
   "outputs": [],
   "source": [
    "def GetDataAngle(datafile, imgs3dscale =1, imgs3dpower=1, e_pscale = 100, angscale=1, angtype='theta', thresh=1e-4):\n",
    "    print ('Loading Data from .....', datafile)\n",
    "    f = h5py.File(datafile,'r')                    # load data into f variable\n",
    "    ang = np.array(f.get(angtype))                 # ang is an array of angle data from f, one value is concatenated onto the latent vector\n",
    "    imgs3d = np.array(f.get('ECAL'))* imgs3dscale    # imgs3d is a 3d array, cut from the cylinder that the calorimeter produces -has 25 layers along z-axis\n",
    "    e_p = np.array(f.get('energy'))/e_pscale       # e_p is an array of scaled energy data from f, one value is concatenated onto the latent vector\n",
    "    imgs3d[imgs3d < thresh] = 0        # when imgs3d values are less than the threshold, they are reset to 0\n",
    "    \n",
    "    # set imgs3d, e_p, and ang as float 32 datatypes\n",
    "    imgs3d = imgs3d.astype(np.float32)\n",
    "    e_p = e_p.astype(np.float32)\n",
    "    ang = ang.astype(np.float32)\n",
    "    \n",
    "    imgs3d = np.expand_dims(imgs3d, axis=-1)         # insert a new axis at the beginning for imgs3d\n",
    "    \n",
    "    # sum along axis\n",
    "    ecal = np.sum(imgs3d, axis=(1, 2, 3))    # summed imgs3d data, used for training the discriminator\n",
    "     \n",
    "    # imgs3d ^ imgs3dpower\n",
    "    if imgs3dpower !=1.:\n",
    "        imgs3d = np.power(imgs3d, imgs3dpower)\n",
    "            \n",
    "    # imgs3d=ecal data; e_p=energy data; ecal=summed imgs3d (used to train the discriminator); ang=angle data\n",
    "    return imgs3d, e_p, ang, ecal"
   ]
  },
  {
   "cell_type": "code",
   "execution_count": 4,
   "metadata": {},
   "outputs": [
    {
     "name": "stdout",
     "output_type": "stream",
     "text": [
      "Loading Data from ..... Ele_VarAngleMeas_100_200_005.h5\n",
      "(5000, 51, 51, 25, 1)\n"
     ]
    }
   ],
   "source": [
    "imgs3d, e_p, ang, ecal = GetDataAngle('Ele_VarAngleMeas_100_200_005.h5')\n",
    "print(imgs3d.shape)"
   ]
  },
  {
   "cell_type": "code",
   "execution_count": 5,
   "metadata": {},
   "outputs": [],
   "source": [
    "def resize(imgs3d, size, mode='rectangle'):\n",
    "    if mode == 'square':\n",
    "        resized_imgs3d = np.zeros((5000, size, size, size)) # create an array to hold all 5000 resized imgs3d\n",
    "    else:    # mode == 'rectangle'\n",
    "        resized_imgs3d = np.zeros((5000, size, size, int(size/2))) # create an array to hold all 5000 resized imgs3d\n",
    "\n",
    "\n",
    "    for num_img in np.arange(5000):     # index through the 5000 3d images packed in\n",
    "        img3d = imgs3d[num_img, :, :, :, 0]    # grab an individual [51,51,25] 3d image\n",
    "        if size < 64:\n",
    "            \n",
    "           # resize XY-plane to (size x size)\n",
    "            xy_resized_img3d = np.zeros((size, size, 25))   # create an empty 3d_image to store changes\n",
    "            for z_index in np.arange(25):    # index through the 25 calorimeter layers of the z-axis\n",
    "                img2d = img3d[:, :, z_index]   # grab a 2d image from the xy plane\n",
    "                resized_img2d = cv2.resize(img2d, dsize=(size, size), interpolation=cv2.INTER_NEAREST)\n",
    "                xy_resized_img3d[:, :, z_index] = resized_img2d   # save our resized_img2d in the img3d corresponding to the calorimeter layer\n",
    "\n",
    "            # resize YZ-plane to (size x size||size/2)        \n",
    "            if mode == 'square':\n",
    "                resized_img3d = np.zeros((size, size, size))   # create an empty 3d_image to store changes\n",
    "            else:    # mode == 'rectangle'\n",
    "                resized_img3d = np.zeros((size, size, int(size/2)))   # create an empty 3d_image to store changes            # resize YZ-plane to (size,size)=square or (size,size/2)=rectangle\n",
    "            for x_index in np.arange(size):    # index through the 51 values of x-axis\n",
    "                img2d = xy_resized_img3d[x_index, :, :]\n",
    "                if mode == 'square':\n",
    "                    resized_img2d = cv2.resize(img2d, dsize=(size, size), interpolation=cv2.INTER_NEAREST)\n",
    "                else:    # mode == 'rectangle'\n",
    "                    resized_img2d = cv2.resize(img2d, dsize=(int(size/2), size), interpolation=cv2.INTER_NEAREST)\n",
    "                resized_img3d[x_index, :, :] = resized_img2d   # save our resized_img2d in the img3d corresponding to the calorimeter layer\n",
    "            \n",
    "        elif size == 64: # NOTE: WON'T WORK WELL TO USE SIZE 64 IF YOU ARE USING THE SQUARE MODE (STRETCHING 25 --> 64), STOP AT SIZE 32\n",
    "            if mode == 'rectangle':\n",
    "                resized_img3d = np.pad(img3d, ((7,6), (7,6), (4,3)), mode='minimum')  # pad centrally with zeroes to [64x64x32] \n",
    "            elif mode == 'square':\n",
    "                resized_img3d = np.pad(img3d, ((7,6), (7,6), (19, 20)), mode='minimum')  # pad centrally with zeroes to [64x64x64] -- MIGHT BE MESSY!\n",
    "        \n",
    "        elif size == 51:   # unchanged\n",
    "            return resized_imgs3d\n",
    "        else: \n",
    "                print('ERROR, size: '+str(size)+' passed is incompatible. Make sure the size is one of the following: [4,8,16,32,64]')\n",
    "    \n",
    "        resized_imgs3d[num_img, :, :, :] = resized_img3d   # save our 3d image in the matrix holding all 5000 3d images\n",
    "    return resized_imgs3d   # returns a [5000, size, size, size||size/2] np.array matrix that is 5000 3d images [size, size, size or size/2]"
   ]
  },
  {
   "cell_type": "code",
   "execution_count": 6,
   "metadata": {},
   "outputs": [
    {
     "name": "stdout",
     "output_type": "stream",
     "text": [
      "(5000, 51, 51, 25, 1)\n",
      "(5000, 32, 32, 16)\n"
     ]
    }
   ],
   "source": [
    "print(imgs3d.shape)\n",
    "resized_imgs3d = resize(imgs3d, 32)#, mode='square')\n",
    "print(resized_imgs3d.shape)"
   ]
  },
  {
   "cell_type": "code",
   "execution_count": 7,
   "metadata": {},
   "outputs": [],
   "source": [
    "def get_pics(datafile):\n",
    "    imgs3d, e_p, ang, ecal = GetDataAngle(datafile)\n",
    "    pics_res4 = resize(imgs3d, 4, mode='rectangle')\n",
    "    pics_res8 = resize(imgs3d, 8, mode='rectangle')\n",
    "    pics_res16 = resize(imgs3d, 16, mode='rectangle')\n",
    "    pics_res32 = resize(imgs3d, 32, mode='rectangle')\n",
    "    pics_res64 = resize(imgs3d, 64, mode='rectangle')\n",
    "    \n",
    "    return pics_res4, pics_res8, pics_res16, pics_res32, pics_res64\n",
    "\n"
   ]
  },
  {
   "cell_type": "code",
   "execution_count": 8,
   "metadata": {},
   "outputs": [],
   "source": [
    "def get_img2d(size, num_img, z_val):\n",
    "    if size != 51:\n",
    "        sized_pics = resize(imgs3d, size)\n",
    "    else:\n",
    "        sized_pics = imgs3d\n",
    "    img2d = sized_pics[num_img, :, :, z_val]\n",
    "    #print('GETTING IMAGE2D')\n",
    "    #print(img2d.shape)\n",
    "    return img2d"
   ]
  },
  {
   "cell_type": "code",
   "execution_count": 9,
   "metadata": {},
   "outputs": [],
   "source": [
    "def show_img2d(img2d_array):    \n",
    "    pic = Image.fromarray(img2d_array)\n",
    "    pic.show()"
   ]
  },
  {
   "cell_type": "code",
   "execution_count": 10,
   "metadata": {},
   "outputs": [],
   "source": [
    "#pic = get_img2d(64, 2500, 12)\n",
    "#show_img2d(pic)"
   ]
  },
  {
   "cell_type": "code",
   "execution_count": 11,
   "metadata": {},
   "outputs": [],
   "source": [
    "def find_pics_with_stuff(size, num_to_see, axis='y'):\n",
    "    pics = imgs3d\n",
    "    pics = resize(pics, size)\n",
    "    count = 0\n",
    "    for num_img in np.arange(5000):\n",
    "        for index in np.arange(int(size/2)):\n",
    "            if axis=='z':\n",
    "                pic = pics[num_img, :, :, index]   #index through z axis, max 25\n",
    "            if axis=='x':\n",
    "                pic = pics[num_img, index, :, :]    #index through x axis, max 51\n",
    "            if axis=='y':\n",
    "                pic = pics[num_img, :, index, :]    #index through y axis, max 51\n",
    "            if np.any(pic>size/10):\n",
    "                pic = pic*500 #to accentuate the color differences\n",
    "                show_img2d(pic)\n",
    "                #print(pic.tolist())\n",
    "                \n",
    "                count += 1\n",
    "                if count == num_to_see:\n",
    "                    return"
   ]
  },
  {
   "cell_type": "code",
   "execution_count": 12,
   "metadata": {},
   "outputs": [],
   "source": [
    "find_pics_with_stuff(64, 1, axis='x')\n",
    "find_pics_with_stuff(64, 1, axis='z')\n",
    "find_pics_with_stuff(64, 1, axis='y')\n",
    "#find_pics_with_stuff(51, 1, axis='y')\n",
    "#find_pics_with_stuff(32, 1)\n",
    "#find_pics_with_stuff(16, 1)\n",
    "#find_pics_with_stuff(8, 1)"
   ]
  }
 ],
 "metadata": {
  "kernelspec": {
   "display_name": "Python 3",
   "language": "python",
   "name": "python3"
  },
  "language_info": {
   "codemirror_mode": {
    "name": "ipython",
    "version": 3
   },
   "file_extension": ".py",
   "mimetype": "text/x-python",
   "name": "python",
   "nbconvert_exporter": "python",
   "pygments_lexer": "ipython3",
   "version": "3.7.7"
  }
 },
 "nbformat": 4,
 "nbformat_minor": 4
}
