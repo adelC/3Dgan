{
 "cells": [
  {
   "cell_type": "code",
   "execution_count": 1,
   "metadata": {},
   "outputs": [],
   "source": [
    "import numpy as np\n",
    "import tensorflow as tf\n",
    "from PIL import Image\n",
    "import h5py\n",
    "from numpy import asarray\n",
    "import cv2"
   ]
  },
  {
   "cell_type": "markdown",
   "metadata": {},
   "source": [
    "# GetDataAngle, from AngleGAN takes in h5 files with physics data and returns a matrix with 3d images and corresponding energy and angle values"
   ]
  },
  {
   "cell_type": "code",
   "execution_count": 2,
   "metadata": {},
   "outputs": [],
   "source": [
    "def GetDataAngle(datafile, imgs3dscale =1, imgs3dpower=1, e_pscale = 100, angscale=1, angtype='theta', thresh=1e-4):\n",
    "    print ('Loading Data from .....', datafile)\n",
    "    f = h5py.File(datafile,'r')                    # load data into f variable\n",
    "    ang = np.array(f.get(angtype))                 # ang is an array of angle data from f, one value is concatenated onto the latent vector\n",
    "    imgs3d = np.array(f.get('ECAL'))* imgs3dscale    # imgs3d is a 3d array, cut from the cylinder that the calorimeter produces -has 25 layers along z-axis\n",
    "    e_p = np.array(f.get('energy'))/e_pscale       # e_p is an array of scaled energy data from f, one value is concatenated onto the latent vector\n",
    "    imgs3d[imgs3d < thresh] = 0        # when imgs3d values are less than the threshold, they are reset to 0\n",
    "    \n",
    "    # set imgs3d, e_p, and ang as float 32 datatypes\n",
    "    imgs3d = imgs3d.astype(np.float32)\n",
    "    e_p = e_p.astype(np.float32)\n",
    "    ang = ang.astype(np.float32)\n",
    "    \n",
    "    imgs3d = np.expand_dims(imgs3d, axis=-1)         # insert a new axis at the beginning for imgs3d\n",
    "    \n",
    "    # sum along axis\n",
    "    ecal = np.sum(imgs3d, axis=(1, 2, 3))    # summed imgs3d data, used for training the discriminator\n",
    "     \n",
    "    # imgs3d ^ imgs3dpower\n",
    "    if imgs3dpower !=1.:\n",
    "        imgs3d = np.power(imgs3d, imgs3dpower)\n",
    "            \n",
    "    # imgs3d=ecal data; e_p=energy data; ecal=summed imgs3d (used to train the discriminator); ang=angle data\n",
    "    return imgs3d, e_p, ang, ecal"
   ]
  },
  {
   "cell_type": "markdown",
   "metadata": {},
   "source": [
    "# Load an h5 file to get the data"
   ]
  },
  {
   "cell_type": "code",
   "execution_count": 3,
   "metadata": {},
   "outputs": [
    {
     "name": "stdout",
     "output_type": "stream",
     "text": [
      "Loading Data from ..... Ele_VarAngleMeas_100_200_005.h5\n"
     ]
    }
   ],
   "source": [
    "imgs3d, e_p, ang, ecal = GetDataAngle('Ele_VarAngleMeas_100_200_005.h5')"
   ]
  },
  {
   "cell_type": "markdown",
   "metadata": {},
   "source": [
    "# See the dimensions for each variable (matrices of 5000 3d images)"
   ]
  },
  {
   "cell_type": "code",
   "execution_count": 4,
   "metadata": {},
   "outputs": [
    {
     "name": "stdout",
     "output_type": "stream",
     "text": [
      "(5000, 51, 51, 25, 1)\n",
      "(5000,)\n",
      "(5000,)\n"
     ]
    }
   ],
   "source": [
    "print(imgs3d.shape)\n",
    "print(e_p.shape)\n",
    "print(ang.shape)"
   ]
  },
  {
   "cell_type": "markdown",
   "metadata": {},
   "source": [
    "# Resize function: takes in [nmbr_imagesx51x51x25xchannel] matrix and resizes + reshapes to [nmbr_imagesxsize/2xsizexsize]"
   ]
  },
  {
   "cell_type": "code",
   "execution_count": 6,
   "metadata": {},
   "outputs": [],
   "source": [
    "def resize(imgs3d, size, mode='rectangle'):\n",
    "    \"\"\"Short summary.\n",
    "\n",
    "    Parameters\n",
    "    ----------\n",
    "    imgs3d : type\n",
    "        Description of parameter `imgs3d`.\n",
    "    size : type\n",
    "        Description of parameter `size`.\n",
    "    mode : type\n",
    "        Description of parameter `mode`.\n",
    "\n",
    "    Returns\n",
    "    -------\n",
    "    type\n",
    "        Description of returned object.\n",
    "\n",
    "    \"\"\"\n",
    "    imgs3d = imgs3d[:, :, :, :, 0]    # drop the channels dimension\n",
    "    nmbr_of_images = len(imgs3d)\n",
    "\n",
    "    if mode == 'rectangle':\n",
    "        resized_imgs3d = np.zeros((nmbr_of_images, size, size, int(size/2)))    # create an array to hold all nmbr_of_images resized imgs3d\n",
    "\n",
    "        for num_img in np.arange(nmbr_of_images):         # index through the nmbr_of_images 3d images packed in\n",
    "            img3d = imgs3d[num_img, :, :, :]    # grab an individual [51,51,25] 3d image\n",
    "\n",
    "            # pad centrally with zeroes to [64x64x32], do this step first so that the framing is the same for all images\n",
    "            resized_img3d = np.pad(img3d, ((7,6), (7,6), (4,3)), mode='minimum')\n",
    "\n",
    "            if size == 64:   # put in the padded image [64,64,32]\n",
    "                resized_imgs3d[num_img, :, :, :] = resized_img3d\n",
    "\n",
    "            else:   # size < 64: we need to zoom out to lower the resolution\n",
    "                # resize XY-plane to (size x size)\n",
    "                xy_resized_img3d = np.zeros((size, size, 25))   # create an empty 3d_image to store changes\n",
    "                for z_index in np.arange(25):    # index through the 25 calorimeter layers of the z-axis\n",
    "                    img2d = img3d[:, :, z_index]   # grab a 2d image from the xy plane\n",
    "                    resized_img2d = cv2.resize(img2d, dsize=(size, size), interpolation=cv2.INTER_NEAREST)\n",
    "                    xy_resized_img3d[:, :, z_index] = resized_img2d   # save our resized_img2d in the img3d corresponding to the calorimeter layer\n",
    "\n",
    "                # resize YZ-plane to (size x size/2)\n",
    "                resized_img3d = np.zeros((size, size, int(size/2)))   # create an empty 3d_image to store changes            # resize YZ-plane to (size,size)=square or (size,size/2)=rectangle\n",
    "                for x_index in np.arange(size):    # index through the x-axis\n",
    "                    img2d = xy_resized_img3d[x_index, :, :]\n",
    "                    resized_img2d = cv2.resize(img2d, dsize=(int(size/2), size), interpolation=cv2.INTER_NEAREST)\n",
    "                    resized_img3d[x_index, :, :] = resized_img2d   # save our resized_img2d in the img3d corresponding to the x layer\n",
    "\n",
    "            # save the resized 3d image in the matrix holding all nmbr_of_images 3d images\n",
    "            resized_imgs3d[num_img, :, :, :] = resized_img3d\n",
    "\n",
    "    elif mode == 'square':\n",
    "        if size == 64:\n",
    "            print('ERROR - Square mode is not compatible with size 64! The max size for square mode is 32.')\n",
    "        else:\n",
    "            resized_imgs3d = np.zeros((nmbr_of_images, size, size, size)) # create an array to hold all nmbr_of_images resized imgs3d\n",
    "\n",
    "            for num_img in np.arange(nmbr_of_images):     # index through the nmbr_of_images 3d images packed in\n",
    "                img3d = imgs3d[num_img, :, :, :]    # grab an individual [51,51,25] 3d image\n",
    "\n",
    "                img3d = np.pad(img3d, ((0,0), (0,0), (4,3)), mode='minimum') # pad centrally with zeroes to [51x51x32]\n",
    "\n",
    "                # resize XY-plane to (size x size)\n",
    "                xy_resized_img3d = np.zeros((size, size, 25))   # create an empty 3d_image to store changes\n",
    "                for z_index in np.arange(25):    # index through the 25 calorimeter layers of the z-axis\n",
    "                    img2d = img3d[:, :, z_index]   # grab a 2d image from the xy plane\n",
    "                    resized_img2d = cv2.resize(img2d, dsize=(size, size), interpolation=cv2.INTER_NEAREST)\n",
    "                    xy_resized_img3d[:, :, z_index] = resized_img2d   # save our resized_img2d in the img3d corresponding to the calorimeter layer\n",
    "\n",
    "                # resize YZ-plane to (size x size)\n",
    "                resized_img3d = np.zeros((size, size, size))   # create an empty 3d_image to store changes\n",
    "                for x_index in np.arange(size):    # index through the 51 values of x-axis\n",
    "                    img2d = xy_resized_img3d[x_index, :, :]\n",
    "                    resized_img2d = cv2.resize(img2d, dsize=(size, size), interpolation=cv2.INTER_NEAREST)\n",
    "                    resized_img3d[x_index, :, :] = resized_img2d   # save our resized_img2d in the img3d corresponding to the x layer\n",
    "\n",
    "                # save our 3d image in the matrix holding all nmbr_of_images 3d images\n",
    "                resized_imgs3d[num_img, :, :, :] = resized_img3d\n",
    "\n",
    "    # reorganize dimensions: (num_imgs, x,y,z) --> (num_imgs, z,x,y)\n",
    "    print(\"before &&&& :\", resized_imgs3d.shape)\n",
    "    resized_imgs3d = np.moveaxis(resized_imgs3d, 3, 1)\n",
    "    print(\"after  &&&& :\", resized_imgs3d.shape)\n",
    "\n",
    "    return resized_imgs3d   # returns a [nmbr_of_images, size||size/2, size, size] np.array matrix that is nmbr_of_images 3d images [size||size/2, size, size]\n"
   ]
  },
  {
   "cell_type": "markdown",
   "metadata": {},
   "source": [
    "# Demonstrate the dimensions changes"
   ]
  },
  {
   "cell_type": "code",
   "execution_count": 9,
   "metadata": {},
   "outputs": [
    {
     "name": "stdout",
     "output_type": "stream",
     "text": [
      "(5000, 51, 51, 25, 1)\n",
      "before &&&& : (5000, 32, 32, 16)\n",
      "after  &&&& : (5000, 16, 32, 32)\n",
      "(5000, 16, 32, 32)\n"
     ]
    }
   ],
   "source": [
    "print(imgs3d.shape)\n",
    "resized_imgs3d = resize(imgs3d, 32)#, mode='square')\n",
    "print(resized_imgs3d.shape)"
   ]
  },
  {
   "cell_type": "markdown",
   "metadata": {},
   "source": [
    "# Function to show a 2d image, has an option to apply a granular 'see_particles filter'"
   ]
  },
  {
   "cell_type": "code",
   "execution_count": 10,
   "metadata": {},
   "outputs": [],
   "source": [
    "def show_img2d(img2d_array, see_particles=True):    \n",
    "    if see_particles:\n",
    "        pic = Image.fromarray((img2d_array* 255).astype(np.uint8))\n",
    "    else:\n",
    "        pic = Image.fromarray(img2d_array)\n",
    "    pic.show()"
   ]
  },
  {
   "cell_type": "markdown",
   "metadata": {},
   "source": [
    "# Function to find showers with content, resize them, and visualize them according to arguments (num_to_see, axis, mode, filter)"
   ]
  },
  {
   "cell_type": "code",
   "execution_count": 11,
   "metadata": {},
   "outputs": [],
   "source": [
    "def visualize_shower(pics, size, num_to_see, axis='y', mode='rectangle', see_particles=True):\n",
    "    pics = resize(pics, size, mode)\n",
    "    print(pics.shape)\n",
    "    count = 0\n",
    "    for num_img in np.arange(5000):\n",
    "        for index in np.arange(int(size/2)):\n",
    "            if axis=='z':\n",
    "                pic = pics[num_img, index, :, :]   #index through z axis, max 25\n",
    "            if axis=='x':\n",
    "                pic = pics[num_img, :, index, :]    #index through x axis, max 51\n",
    "            if axis=='y':\n",
    "                pic = pics[num_img, :, :, index]    #index through y axis, max 51\n",
    "            if np.any(pic>size/10):\n",
    "                pic = pic*500 #to accentuate the color differences\n",
    "                show_img2d(pic, see_particles)\n",
    "                #print(pic.tolist())\n",
    "                \n",
    "                count += 1\n",
    "                if count == num_to_see:\n",
    "                    return"
   ]
  },
  {
   "cell_type": "markdown",
   "metadata": {},
   "source": [
    "# Example calls for testing"
   ]
  },
  {
   "cell_type": "code",
   "execution_count": 12,
   "metadata": {},
   "outputs": [
    {
     "name": "stdout",
     "output_type": "stream",
     "text": [
      "before &&&& : (5000, 32, 32, 32)\n",
      "after  &&&& : (5000, 32, 32, 32)\n",
      "(5000, 32, 32, 32)\n"
     ]
    }
   ],
   "source": [
    "#visualize_shower(imgs3d, 64, 1, axis='x')\n",
    "#visualize_shower(imgs3d, 32, 1, axis='x')\n",
    "#visualize_shower(imgs3d, 16, 1, axis='x')\n",
    "#visualize_shower(imgs3d, 8, 1, axis='x')\n",
    "#visualize_shower(imgs3d, 32, 1, axis='x', mode='square')\n",
    "\n",
    "#visualize_shower(imgs3d, 64, 1, axis='y')\n",
    "#visualize_shower(imgs3d, 64, 1, axis='z')\n",
    "\n",
    "#visualize_shower(imgs3d, 64, 1, axis='z')\n",
    "#visualize_shower(imgs3d, 64, 1, axis='y')\n",
    "#visualize_shower(imgs3d, 32, 1)\n",
    "##visualize_shower(imgs3d, 16, 1)\n",
    "#visualize_shower(imgs3d, 8, 1)"
   ]
  },
  {
   "cell_type": "markdown",
   "metadata": {},
   "source": [
    "# Function that takes in the pgan generated 3d images of size [nmbr_of_images, 32, 64, 64] and resizes them to the desired [nmbr_of_images, 51, 51, 25] OG shape"
   ]
  },
  {
   "cell_type": "code",
   "execution_count": 19,
   "metadata": {},
   "outputs": [],
   "source": [
    "# include channels changes??? -- may need to debug if channels value is included in pgan_imgs\n",
    "def resize_to_OG(pgan_imgs3d):\n",
    "    # matrix dimensions: [nmbr_of_images, 32, 64, 64] --> [nmbr_of_images, 51, 51, 25]\n",
    "    og_dim_imgs3d = np.moveaxis(pgan_imgs3d, 1, -1)   # move z: [nmbr_of_images, 64, 64, 32]\n",
    "    og_dim_imgs3d = og_dim_imgs3d[:, 7:58, 7:58, 4:29]   # crop centrally (corresponding to resize()) to og_dimensions 51x51x25\n",
    "    return og_dim_imgs3d"
   ]
  },
  {
   "cell_type": "markdown",
   "metadata": {},
   "source": [
    "# Debug the resize_to_OG() function"
   ]
  },
  {
   "cell_type": "code",
   "execution_count": 18,
   "metadata": {},
   "outputs": [
    {
     "name": "stdout",
     "output_type": "stream",
     "text": [
      "(5000, 51, 51, 25, 1)\n",
      "before &&&& : (5000, 64, 64, 32)\n",
      "after  &&&& : (5000, 32, 64, 64)\n",
      "(5000, 32, 64, 64)\n",
      "(5000, 51, 51, 25)\n"
     ]
    }
   ],
   "source": [
    "print(imgs3d.shape)\n",
    "resized_imgs3d = resize(imgs3d, 64)\n",
    "print(resized_imgs3d.shape)\n",
    "resized_OG_imgs3d = resize_to_OG(resized_imgs3d)\n",
    "print(resized_OG_imgs3d.shape)"
   ]
  }
 ],
 "metadata": {
  "kernelspec": {
   "display_name": "Python 3",
   "language": "python",
   "name": "python3"
  },
  "language_info": {
   "codemirror_mode": {
    "name": "ipython",
    "version": 3
   },
   "file_extension": ".py",
   "mimetype": "text/x-python",
   "name": "python",
   "nbconvert_exporter": "python",
   "pygments_lexer": "ipython3",
   "version": "3.7.7"
  }
 },
 "nbformat": 4,
 "nbformat_minor": 4
}
