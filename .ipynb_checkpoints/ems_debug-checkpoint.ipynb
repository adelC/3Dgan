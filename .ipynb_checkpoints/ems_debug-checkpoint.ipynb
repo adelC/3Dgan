{
 "cells": [
  {
   "cell_type": "code",
   "execution_count": 4,
   "metadata": {},
   "outputs": [],
   "source": [
    "import numpy as np\n",
    "import tensorflow as tf\n",
    "import h5py\n",
    "import tensorflow as tf"
   ]
  },
  {
   "cell_type": "code",
   "execution_count": 2,
   "metadata": {},
   "outputs": [],
   "source": [
    "def GetDataAngle(datafile, imgs3dscale =1, imgs3dpower=1, e_pscale = 100, angscale=1, angtype='theta', thresh=1e-4):\n",
    "    print ('Loading Data from .....', datafile)\n",
    "    f = h5py.File(datafile,'r')                    # load data into f variable\n",
    "    ang = np.array(f.get(angtype))                 # ang is an array of angle data from f, one value is concatenated onto the latent vector\n",
    "    imgs3d = np.array(f.get('ECAL'))* imgs3dscale    # imgs3d is a 3d array, cut from the cylinder that the calorimeter produces -has 25 layers along z-axis\n",
    "    e_p = np.array(f.get('energy'))/e_pscale       # e_p is an array of scaled energy data from f, one value is concatenated onto the latent vector\n",
    "    imgs3d[imgs3d < thresh] = 0        # when imgs3d values are less than the threshold, they are reset to 0\n",
    "    \n",
    "    # set imgs3d, e_p, and ang as float 32 datatypes\n",
    "    imgs3d = imgs3d.astype(np.float32)\n",
    "    e_p = e_p.astype(np.float32)\n",
    "    ang = ang.astype(np.float32)\n",
    "    \n",
    "    imgs3d = np.expand_dims(imgs3d, axis=-1)         # insert a new axis at the beginning for imgs3d\n",
    "    \n",
    "    # sum along axis\n",
    "    ecal = np.sum(imgs3d, axis=(1, 2, 3))    # summed imgs3d data, used for training the discriminator\n",
    "     \n",
    "    # imgs3d ^ imgs3dpower\n",
    "    if imgs3dpower !=1.:\n",
    "        imgs3d = np.power(imgs3d, imgs3dpower)\n",
    "            \n",
    "    # imgs3d=ecal data; e_p=energy data; ecal=summed imgs3d (used to train the discriminator); ang=angle data\n",
    "    return imgs3d, e_p, ang, ecal"
   ]
  },
  {
   "cell_type": "code",
   "execution_count": 3,
   "metadata": {},
   "outputs": [
    {
     "name": "stdout",
     "output_type": "stream",
     "text": [
      "Loading Data from ..... Ele_VarAngleMeas_100_200_005.h5\n"
     ]
    }
   ],
   "source": [
    "imgs3d, e_p, ang, ecal = GetDataAngle('Ele_VarAngleMeas_100_200_005.h5')"
   ]
  },
  {
   "cell_type": "code",
   "execution_count": 61,
   "metadata": {},
   "outputs": [
    {
     "data": {
      "text/plain": [
       "<tf.Tensor: shape=(256,), dtype=float32, numpy=\n",
       "array([ 9.29463148e-01, -1.09389436e+00, -1.48534763e+00, -2.68054366e-01,\n",
       "        2.79756874e-01, -5.51010907e-01, -2.38912180e-02,  4.36952949e-01,\n",
       "       -1.68272865e+00,  1.24350980e-01,  1.07649255e+00,  1.37902069e+00,\n",
       "        4.91285056e-01,  9.04115915e-01, -1.10078633e+00,  5.06004412e-03,\n",
       "        1.42547801e-01,  8.31737742e-02, -6.44768834e-01, -1.49801493e+00,\n",
       "        6.02821171e-01,  9.44280982e-01, -1.24028242e+00, -2.08272815e+00,\n",
       "       -8.98195446e-01, -4.61210221e-01,  2.45881066e-01,  5.69676161e-01,\n",
       "        1.83393669e+00,  5.36257565e-01, -1.00128353e+00, -1.52976951e-02,\n",
       "        3.52929145e-01,  2.51738340e-01,  1.47254932e+00, -5.97577572e-01,\n",
       "       -7.28715301e-01,  5.46233833e-01,  1.02458000e+00, -7.22587705e-01,\n",
       "       -7.75858164e-01,  1.09627271e+00,  2.01892781e+00, -2.26437792e-01,\n",
       "        1.52997625e+00, -4.47745293e-01,  8.88481915e-01,  1.21539287e-01,\n",
       "       -4.07863021e-01, -4.64060754e-01, -1.14461279e+00, -1.34512210e+00,\n",
       "        1.58529258e+00, -1.20564610e-01, -1.86276197e-01,  8.44250768e-02,\n",
       "       -4.74477410e-01,  1.42889047e+00,  7.99261630e-01, -3.19168186e+00,\n",
       "        7.12373853e-01,  1.44189131e+00, -1.42018771e+00, -1.48040760e+00,\n",
       "        7.37812579e-01, -7.22989559e-01, -2.07201290e+00,  4.91557777e-01,\n",
       "       -5.99107286e-03,  6.80311695e-02,  2.42991820e-01, -7.79968083e-01,\n",
       "       -1.29161847e+00,  2.72858828e-01, -1.01728368e+00, -2.37131819e-01,\n",
       "        1.12895906e+00,  1.57372880e+00,  8.32831144e-01, -4.23536003e-01,\n",
       "       -9.18177187e-01, -1.20476097e-01,  1.75374246e+00,  8.79296780e-01,\n",
       "       -1.50209069e+00, -1.04133654e+00, -2.40509599e-01, -2.35300049e-01,\n",
       "       -2.01556373e+00, -1.00023472e+00,  8.78777921e-01, -3.94481331e-01,\n",
       "       -6.96994841e-01,  8.38179410e-01,  3.94529104e-01, -1.41326725e+00,\n",
       "       -4.73124176e-01,  7.10823417e-01,  7.65812814e-01,  5.37753403e-01,\n",
       "        1.54806423e+00,  3.68772030e+00,  1.33770436e-01,  1.76391199e-01,\n",
       "       -3.90269995e-01,  7.18891919e-01,  1.97177574e-01,  3.80151033e-01,\n",
       "       -1.38464570e+00,  6.78445101e-01, -2.21539736e-02,  3.42001319e-01,\n",
       "       -2.64384937e+00, -3.11282843e-01,  4.36035156e-01,  1.02394223e+00,\n",
       "       -5.02578080e-01,  1.19770646e+00,  4.61992025e-01, -4.12965506e-01,\n",
       "        3.79922569e-01,  1.85072199e-02, -1.22887301e+00, -1.12225580e+00,\n",
       "        3.91321331e-01, -8.23041618e-01, -5.10181963e-01,  6.13511086e-01,\n",
       "       -2.53987491e-01,  2.58290887e-01, -1.47332585e+00,  2.18257114e-01,\n",
       "       -1.00617206e+00, -1.96844149e+00, -4.29873198e-01,  6.52241468e-01,\n",
       "        4.76200789e-01, -1.03414237e+00,  1.18730493e-01,  1.17061365e+00,\n",
       "       -7.87193358e-01,  1.67765474e+00, -1.08623886e+00, -1.52772531e-01,\n",
       "       -5.91387510e-01,  5.17588675e-01,  7.91325092e-01,  4.50724512e-01,\n",
       "       -3.30029041e-01, -2.11946416e+00,  5.58404446e-01,  1.01801336e+00,\n",
       "        9.38957632e-01, -4.45006460e-01, -3.34035635e-01, -1.10023594e+00,\n",
       "       -2.35221609e-01, -3.74746591e-01,  3.93849552e-01, -7.89504051e-01,\n",
       "       -5.19279778e-01,  2.75291264e-01,  5.35144627e-01,  1.13553667e+00,\n",
       "        7.21174836e-01,  1.02818143e+00,  1.25598216e+00,  1.52414846e+00,\n",
       "       -8.46521795e-01,  3.28397691e-01,  4.79047120e-01, -5.71072578e-01,\n",
       "        1.02799606e+00, -5.96639216e-01, -3.94010425e-01,  2.09413958e+00,\n",
       "       -1.53968322e+00,  2.01093336e-03, -6.77808642e-01, -1.35219646e+00,\n",
       "        8.15068722e-01,  1.45544422e+00,  6.12664819e-01, -1.36478221e+00,\n",
       "        6.17924295e-02,  3.26404095e-01,  9.93179739e-01,  1.57154357e+00,\n",
       "        1.11858599e-01,  3.80958945e-01,  3.02470177e-02, -1.52950156e+00,\n",
       "        2.63201654e-01,  8.41760457e-01,  8.99640679e-01, -7.08181644e-04,\n",
       "       -6.88317120e-01, -2.66721582e+00, -4.02412891e-01,  9.94412005e-02,\n",
       "        1.19818974e+00,  1.58099425e+00, -1.06571114e+00, -2.44447923e+00,\n",
       "       -4.24296051e-01, -6.14893794e-01,  1.40682471e+00,  1.24492995e-01,\n",
       "       -9.08305824e-01,  1.29433548e+00,  4.85199034e-01, -1.12767124e+00,\n",
       "        8.80056471e-02,  4.30294275e+00,  6.06433272e-01,  1.29005671e+00,\n",
       "       -6.06995165e-01,  1.10927022e+00,  9.89825785e-01, -1.37406135e+00,\n",
       "        1.64216244e+00,  8.00884485e-01, -7.61540711e-01,  2.57637709e-01,\n",
       "        8.33224297e-01,  7.66987741e-01,  7.10032403e-01,  4.20210883e-02,\n",
       "        1.54414857e-02,  5.73703870e-02, -1.42483604e+00, -1.25970554e+00,\n",
       "       -2.64121853e-02, -6.88857317e-01,  3.91747385e-01, -1.23986459e+00,\n",
       "       -6.34089530e-01, -2.29674261e-02,  1.19401145e+00,  2.09060520e-01,\n",
       "       -5.74846387e-01,  3.05137098e-01, -1.43766657e-01,  1.16952908e+00,\n",
       "       -7.28098392e-01, -4.87085283e-01, -5.58879137e-01, -1.94408524e+00,\n",
       "       -8.06747139e-01,  2.81314635e+00,  1.52310407e+00, -6.94977820e-01,\n",
       "       -3.93508404e-01,  1.07190073e+00,  1.37739027e+00,  1.24230909e+00],\n",
       "      dtype=float32)>"
      ]
     },
     "execution_count": 61,
     "metadata": {},
     "output_type": "execute_result"
    }
   ],
   "source": [
    "latent_dim = 256\n",
    "z = tf.random.normal([latent_dim-2])\n",
    "z = tf.concat([z, [e_p[0]], [ang[0]]], 0)\n",
    "z"
   ]
  },
  {
   "cell_type": "code",
   "execution_count": 71,
   "metadata": {},
   "outputs": [
    {
     "name": "stdout",
     "output_type": "stream",
     "text": [
      "(4, 254)\n",
      "(4, 1)\n",
      "(4, 1)\n",
      "(4, 256)\n"
     ]
    }
   ],
   "source": [
    "#z = tf.random.normal(shape=[tf.shape(real_image_input)[0], latent_dim-2])    #shape=[int corresponding to batch_size, 254]\n",
    "z_batch_size = 4                                             #tf.shape(real_image_input)[0]\n",
    "z = tf.random.normal(shape=[z_batch_size, latent_dim-2])   \n",
    "print(z.shape)\n",
    "e_p_vector = e_p[0:(z_batch_size)].reshape(z_batch_size,1)   # need z_batch_size x 1\n",
    "print(e_p_vector.shape)\n",
    "ang_vector = ang[0:(z_batch_size)].reshape(z_batch_size,1)   # need z_batch_size x 1\n",
    "print(ang_vector.shape)\n",
    "z = tf.concat([ z, e_p_vector, ang_vector ], 1)\n",
    "print(z.shape)"
   ]
  }
 ],
 "metadata": {
  "kernelspec": {
   "display_name": "Python 3",
   "language": "python",
   "name": "python3"
  },
  "language_info": {
   "codemirror_mode": {
    "name": "ipython",
    "version": 3
   },
   "file_extension": ".py",
   "mimetype": "text/x-python",
   "name": "python",
   "nbconvert_exporter": "python",
   "pygments_lexer": "ipython3",
   "version": "3.7.7"
  }
 },
 "nbformat": 4,
 "nbformat_minor": 4
}
