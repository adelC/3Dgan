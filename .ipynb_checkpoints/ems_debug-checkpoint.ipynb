{
 "cells": [
  {
   "cell_type": "markdown",
   "metadata": {},
   "source": [
    "# Em's Debug File - currently working on concatenating ang and e_p onto latent z"
   ]
  },
  {
   "cell_type": "code",
   "execution_count": 2,
   "metadata": {},
   "outputs": [],
   "source": [
    "import numpy as np\n",
    "import tensorflow as tf\n",
    "import h5py"
   ]
  },
  {
   "cell_type": "code",
   "execution_count": 6,
   "metadata": {},
   "outputs": [],
   "source": [
    "def GetDataAngle(datafile, imgs3dscale =1, imgs3dpower=1, e_pscale = 100, angscale=1, angtype='theta', thresh=1e-4):\n",
    "    print ('Loading Data from .....', datafile)\n",
    "    f = h5py.File(datafile,'r')                    # load data into f variable\n",
    "    ang = np.array(f.get(angtype))                 # ang is an array of angle data from f, one value is concatenated onto the latent vector\n",
    "    imgs3d = np.array(f.get('ECAL'))* imgs3dscale    # imgs3d is a 3d array, cut from the cylinder that the calorimeter produces -has 25 layers along z-axis\n",
    "    e_p = np.array(f.get('energy'))/e_pscale       # e_p is an array of scaled energy data from f, one value is concatenated onto the latent vector\n",
    "    imgs3d[imgs3d < thresh] = 0        # when imgs3d values are less than the threshold, they are reset to 0\n",
    "    \n",
    "    # set imgs3d, e_p, and ang as float 32 datatypes\n",
    "    imgs3d = imgs3d.astype(np.float32)\n",
    "    e_p = e_p.astype(np.float32)\n",
    "    ang = ang.astype(np.float32)\n",
    "    \n",
    "    imgs3d = np.expand_dims(imgs3d, axis=-1)         # insert a new axis at the beginning for imgs3d\n",
    "    \n",
    "    # sum along axis\n",
    "    ecal = np.sum(imgs3d, axis=(1, 2, 3))    # summed imgs3d data, used for training the discriminator\n",
    "     \n",
    "    # imgs3d ^ imgs3dpower\n",
    "    if imgs3dpower !=1.:\n",
    "        imgs3d = np.power(imgs3d, imgs3dpower)\n",
    "            \n",
    "    # imgs3d=ecal data; e_p=energy data; ecal=summed imgs3d (used to train the discriminator); ang=angle data\n",
    "    return imgs3d, e_p, ang, ecal"
   ]
  },
  {
   "cell_type": "code",
   "execution_count": 9,
   "metadata": {},
   "outputs": [
    {
     "name": "stdout",
     "output_type": "stream",
     "text": [
      "Loading Data from ..... Ele_VarAngleMeas_100_200_005.h5\n"
     ]
    }
   ],
   "source": [
    "#load the data from a file using getdataangle()\n",
    "imgs3d, e_p, ang, ecal = GetDataAngle('Ele_VarAngleMeas_100_200_005.h5')"
   ]
  },
  {
   "cell_type": "code",
   "execution_count": 10,
   "metadata": {},
   "outputs": [
    {
     "data": {
      "text/plain": [
       "1.8596954"
      ]
     },
     "execution_count": 10,
     "metadata": {},
     "output_type": "execute_result"
    }
   ],
   "source": [
    "# uncomment to see examples of the values\n",
    "#e_p[100]\n",
    "#ang[100]"
   ]
  },
  {
   "cell_type": "markdown",
   "metadata": {},
   "source": [
    "Strategy for concatenating a single energy value and angle value onto a 1d latent tensor of length 254"
   ]
  },
  {
   "cell_type": "code",
   "execution_count": 11,
   "metadata": {},
   "outputs": [
    {
     "data": {
      "text/plain": [
       "<tf.Tensor 'concat:0' shape=(256,) dtype=float32>"
      ]
     },
     "execution_count": 11,
     "metadata": {},
     "output_type": "execute_result"
    }
   ],
   "source": [
    "latent_dim = 256\n",
    "z = tf.random.normal([latent_dim-2])\n",
    "z = tf.concat([z, [e_p[0]], [ang[0]]], 0)\n",
    "z"
   ]
  },
  {
   "cell_type": "markdown",
   "metadata": {},
   "source": [
    "The variable fed into the original loss.py code: **tf.shape(real_image_input)[0]** is from sara_main.py and is just the batch size. \n",
    "\n",
    "In the code, I assign it: **z_batch_size = tf.shape(real_image_input)[0]**\n",
    "\n",
    "for testing purposes in this file, I assign **z_batch_size** to a random int"
   ]
  },
  {
   "cell_type": "markdown",
   "metadata": {},
   "source": [
    "Loss.py concatenation code -- subbed phase and batch_size variables"
   ]
  },
  {
   "cell_type": "markdown",
   "metadata": {},
   "source": [
    "Adel will pass in ang and e_p as tensors with length = **z_batch_size = tf.shape(real_image_input)[0]**"
   ]
  },
  {
   "cell_type": "code",
   "execution_count": 28,
   "metadata": {},
   "outputs": [
    {
     "name": "stdout",
     "output_type": "stream",
     "text": [
      "select batch size of energy values:  (12,) , type <class 'numpy.ndarray'>\n",
      "select batch size of angle values:  (12,) , type <class 'numpy.ndarray'>\n"
     ]
    }
   ],
   "source": [
    "# example function get the right size of vectors\n",
    "phase = 4              # a random number I chose for testing\n",
    "z_batch_size = 12      # a random number I chose for testing, in the code it will be tf.shape(real_image_input)[0]\n",
    "start = (z_batch_size * (phase-1))\n",
    "e_p = e_p[start:(start+z_batch_size)]   # select the batch size range desired\n",
    "print(\"select batch size of energy values: \", e_p_vector.shape, \", type\", type(e_p_vector))\n",
    "ang = ang[start:(start+z_batch_size)]   # select the batch size range desired\n",
    "print(\"select batch size of angle values: \", ang_vector.shape, \", type\", type(ang_vector))"
   ]
  },
  {
   "cell_type": "markdown",
   "metadata": {},
   "source": [
    "## The loss.py code -- takes in ang and e_p tensors or vectors of the correct batch size range\n",
    "This is the code put into loss.py forward functions"
   ]
  },
  {
   "cell_type": "code",
   "execution_count": 31,
   "metadata": {},
   "outputs": [
    {
     "name": "stdout",
     "output_type": "stream",
     "text": [
      "energy tensor: dimensions  (12, 1) , type <class 'tensorflow.python.framework.ops.Tensor'>\n",
      "angle tensor: dimensions  (12, 1) , type <class 'tensorflow.python.framework.ops.Tensor'>\n",
      "create a gaussian latent tensor: dimensions  (12, 254) , type <class 'tensorflow.python.framework.ops.Tensor'>\n",
      "now, concatenate tensors of angle and energy values for each batch onto the latent vector\n",
      "latent tensor: dimensions  (12, 256) , type <class 'tensorflow.python.framework.ops.Tensor'>\n"
     ]
    }
   ],
   "source": [
    "#z_batch_size = tf.shape(real_image_input)[0]                 # this value should be an integer\n",
    "\n",
    "e_p_tensor = tf.reshape(e_p_vector, [z_batch_size,1])   # need z_batch_size x 1\n",
    "print(\"energy tensor: dimensions \", e_p_tensor.shape, \", type\", type(e_p_tensor))\n",
    "ang_tensor = tf.reshape(ang_vector, [z_batch_size,1])   # need z_batch_size x 1\n",
    "print(\"angle tensor: dimensions \", ang_tensor.shape, \", type\", type(ang_tensor))\n",
    "\n",
    "\n",
    "z = tf.random.normal(shape=[z_batch_size, latent_dim-2])   \n",
    "print(\"create a gaussian latent tensor: dimensions \", z.shape, \", type\", type(z))\n",
    "print('now, concatenate tensors of angle and energy values for each batch onto the latent vector')\n",
    "z = tf.concat([z, e_p_tensor, ang_tensor], 1)    # shape = (z_batch_size, 256)\n",
    "print(\"latent tensor: dimensions \", z.shape, \", type\", type(z))"
   ]
  }
 ],
 "metadata": {
  "kernelspec": {
   "display_name": "Python 3",
   "language": "python",
   "name": "python3"
  },
  "language_info": {
   "codemirror_mode": {
    "name": "ipython",
    "version": 3
   },
   "file_extension": ".py",
   "mimetype": "text/x-python",
   "name": "python",
   "nbconvert_exporter": "python",
   "pygments_lexer": "ipython3",
   "version": "3.7.7"
  }
 },
 "nbformat": 4,
 "nbformat_minor": 4
}
