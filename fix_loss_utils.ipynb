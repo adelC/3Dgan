{
 "cells": [
  {
   "cell_type": "markdown",
   "metadata": {},
   "source": [
    "# A file to fix the ecal_ang() and ecal_sum() lambda loss term functions\n",
    "## (1) remove keras and (2) allow for different sizing"
   ]
  },
  {
   "cell_type": "code",
   "execution_count": 6,
   "metadata": {},
   "outputs": [],
   "source": [
    "import tensorflow as tf\n",
    "import keras as K\n",
    "import math"
   ]
  },
  {
   "cell_type": "code",
   "execution_count": 36,
   "metadata": {},
   "outputs": [
    {
     "data": {
      "text/plain": [
       "<tf.Tensor 'Sum_5:0' shape=() dtype=float32>"
      ]
     },
     "execution_count": 36,
     "metadata": {},
     "output_type": "execute_result"
    }
   ],
   "source": [
    "daxis=(1,1)\n",
    "c = tf.constant([[1.0, 2.0, 4.0], [3.0, 4.0, 5.0]])\n",
    "c"
   ]
  },
  {
   "cell_type": "markdown",
   "metadata": {},
   "source": [
    "### Original ecal_sum()"
   ]
  },
  {
   "cell_type": "code",
   "execution_count": 7,
   "metadata": {},
   "outputs": [],
   "source": [
    "# Summming cell energies\n",
    "def ecal_sum(image, power):\n",
    "    image = K.pow(image, 1./power)\n",
    "    sum = K.sum(image, axis=daxis)\n",
    "    return sum"
   ]
  },
  {
   "cell_type": "markdown",
   "metadata": {},
   "source": [
    "### New ecal_sum() \n",
    "#### do i need to multiply by a value for smaller images??"
   ]
  },
  {
   "cell_type": "code",
   "execution_count": 22,
   "metadata": {},
   "outputs": [],
   "source": [
    "# Summming cell energies\n",
    "def new_ecal_sum(image, power):\n",
    "    # process the image by **1/power\n",
    "    image = tf.pow(image, 1./power)\n",
    "    # sum the values along the daxis\n",
    "    sum = tf.reduce_sum(image, daxis)   \n",
    "    return sum"
   ]
  },
  {
   "cell_type": "code",
   "execution_count": 29,
   "metadata": {},
   "outputs": [
    {
     "name": "stdout",
     "output_type": "stream",
     "text": [
      "[4.4142137 5.9681187]\n"
     ]
    }
   ],
   "source": [
    "# test\n",
    "print(tf.Session().run(new_ecal_sum(c, 2)))"
   ]
  },
  {
   "cell_type": "markdown",
   "metadata": {},
   "source": [
    "### Original ecal_angle()"
   ]
  },
  {
   "cell_type": "code",
   "execution_count": 31,
   "metadata": {},
   "outputs": [],
   "source": [
    "# Calculating angle from image\n",
    "def ecal_angle(image, power):\n",
    "    if K.image_data_format() =='channels_last':\n",
    "       image = K.squeeze(image, axis=4)\n",
    "    else: \n",
    "       image = K.squeeze(image, axis=1)\n",
    "    image = K.pow(image, 1./power)\n",
    "    \n",
    "    # size of ecal\n",
    "    x_shape= K.int_shape(image)[1]\n",
    "    y_shape= K.int_shape(image)[2]\n",
    "    z_shape= K.int_shape(image)[3]\n",
    "    sumtot = K.sum(image, axis=(1,2,3))# sum of events\n",
    "    \n",
    "    # get 1. where event sum is 0 and 0 elsewhere\n",
    "    amask = K.tf.where(K.equal(sumtot, 0.0), K.ones_like(sumtot) , K.zeros_like(sumtot))\n",
    "    masked_events = K.sum(amask) # counting zero sum events\n",
    "    \n",
    "    # ref denotes barycenter as that is our reference point\n",
    "    x_ref = K.sum(K.sum(image, axis=(2,3)) * (K.cast(K.expand_dims(K.arange(x_shape), 0), dtype='float32') + 0.5) , axis=1)# sum for x position * x index\n",
    "    y_ref = K.sum(K.sum(image, axis=(1,3)) * (K.cast(K.expand_dims(K.arange(y_shape), 0), dtype='float32') + 0.5), axis=1)\n",
    "    z_ref = K.sum(K.sum(image, axis=(1,2)) * (K.cast(K.expand_dims(K.arange(z_shape), 0), dtype='float32') + 0.5), axis=1)\n",
    "    x_ref = K.tf.where(K.equal(sumtot, 0.0), K.ones_like(x_ref) , x_ref/sumtot)# return max position if sumtot=0 and divide by sumtot otherwise\n",
    "    y_ref = K.tf.where(K.equal(sumtot, 0.0), K.ones_like(y_ref) , y_ref/sumtot)\n",
    "    z_ref = K.tf.where(K.equal(sumtot, 0.0), K.ones_like(z_ref), z_ref/sumtot)\n",
    "    \n",
    "    # reshape    \n",
    "    x_ref = K.expand_dims(x_ref, 1)\n",
    "    y_ref = K.expand_dims(y_ref, 1)\n",
    "    z_ref = K.expand_dims(z_ref, 1)\n",
    "\n",
    "    sumz = K.sum(image, axis =(1,2)) # sum for x,y planes going along z\n",
    "\n",
    "    # Get 0 where sum along z is 0 and 1 elsewhere\n",
    "    zmask = K.tf.where(K.equal(sumz, 0.0), K.zeros_like(sumz) , K.ones_like(sumz))\n",
    "        \n",
    "    x = K.expand_dims(K.arange(x_shape), 0) # x indexes\n",
    "    x = K.cast(K.expand_dims(x, 2), dtype='float32') + 0.5\n",
    "    y = K.expand_dims(K.arange(y_shape), 0)# y indexes\n",
    "    y = K.cast(K.expand_dims(y, 2), dtype='float32') + 0.5\n",
    "  \n",
    "    # barycenter for each z position\n",
    "    x_mid = K.sum(K.sum(image, axis=2) * x, axis=1)\n",
    "    y_mid = K.sum(K.sum(image, axis=1) * y, axis=1)\n",
    "    x_mid = K.tf.where(K.equal(sumz, 0.0), K.zeros_like(sumz), x_mid/sumz) # if sum != 0 then divide by sum\n",
    "    y_mid = K.tf.where(K.equal(sumz, 0.0), K.zeros_like(sumz), y_mid/sumz) # if sum != 0 then divide by sum\n",
    "\n",
    "    # Angle Calculations\n",
    "    z = (K.cast(K.arange(z_shape), dtype='float32') + 0.5)  * K.ones_like(z_ref) # Make an array of z indexes for all events\n",
    "    zproj = K.sqrt(K.maximum((x_mid-x_ref)**2.0 + (z - z_ref)**2.0, K.epsilon()))# projection from z axis with stability check\n",
    "    m = K.tf.where(K.equal(zproj, 0.0), K.zeros_like(zproj), (y_mid-y_ref)/zproj)# to avoid divide by zero for zproj =0\n",
    "    m = K.tf.where(K.tf.less(z, z_ref),  -1 * m, m)# sign inversion\n",
    "    ang = (math.pi/2.0) - tf.atan(m)# angle correction\n",
    "    zmask = K.tf.where(K.equal(zproj, 0.0), K.zeros_like(zproj) , zmask)\n",
    "    ang = ang * zmask # place zero where zsum is zero\n",
    "    \n",
    "    ang = ang * z  # weighted by position\n",
    "    sumz_tot = z * zmask # removing indexes with 0 energies or angles\n",
    "\n",
    "    #zunmasked = K.sum(zmask, axis=1) # used for simple mean \n",
    "    #ang = K.sum(ang, axis=1)/zunmasked # Mean does not include positions where zsum=0\n",
    "\n",
    "    ang = K.sum(ang, axis=1)/K.sum(sumz_tot, axis=1) # sum ( measured * weights)/sum(weights)\n",
    "    ang = K.tf.where(K.equal(amask, 0.), ang, 100. * K.ones_like(ang)) # Place 100 for measured angle where no energy is deposited in events\n",
    "    \n",
    "    ang = K.expand_dims(ang, 1)\n",
    "    return ang"
   ]
  },
  {
   "cell_type": "markdown",
   "metadata": {},
   "source": [
    "### new ecal_angle() -- in progress"
   ]
  },
  {
   "cell_type": "code",
   "execution_count": 34,
   "metadata": {},
   "outputs": [],
   "source": [
    "# Calculating angle from image\n",
    "def ecal_angle(image, power, channels_format):\n",
    "    # drop an axis\n",
    "    if channels_format =='channels_last':\n",
    "        image = tf.squeeze(image, axis=4)\n",
    "    else: \n",
    "        image = tf.squeeze(image, axis=1)\n",
    "    \n",
    "    # pre-process the image\n",
    "    image = tf.pow(image, 1./power)   \n",
    "    \n",
    "    # size of ecal\n",
    "    x_shape= image.get_shape()[1].value\n",
    "    y_shape= image.get_shape()[2].value\n",
    "    z_shape= image.get_shape()[3].value\n",
    "    sumtot = tf.reduce_sum(image, (1,2,3))# sum of events\n",
    "\n",
    "    # get 1. where event sum is 0 and 0 elsewhere\n",
    "    amask = tf.where(K.equal(sumtot, 0.0), K.ones_like(sumtot) , K.zeros_like(sumtot))\n",
    "    masked_events = tf.reduce_sum(amask) # counting zero sum events\n",
    "    \n",
    "    # ref denotes barycenter as that is our reference point\n",
    "    x_ref = tf.reduce_sum(tf.reduce_sum(image, (2,3)) * (K.cast(K.expand_dims(K.arange(x_shape), 0), dtype='float32') + 0.5), 1)# sum for x position * x index\n",
    "    y_ref = tf.reduce_sum(tf.reduce_sum(image, (1,3)) * (K.cast(K.expand_dims(K.arange(y_shape), 0), dtype='float32') + 0.5), 1)\n",
    "    z_ref = tf.reduce_sum(tf.reduce_sum(image, (1,2)) * (K.cast(K.expand_dims(K.arange(z_shape), 0), dtype='float32') + 0.5), 1)\n",
    "    x_ref = tf.where(K.equal(sumtot, 0.0), K.ones_like(x_ref) , x_ref/sumtot)# return max position if sumtot=0 and divide by sumtot otherwise\n",
    "    y_ref = tf.where(K.equal(sumtot, 0.0), K.ones_like(y_ref) , y_ref/sumtot)\n",
    "    z_ref = tf.where(K.equal(sumtot, 0.0), K.ones_like(z_ref), z_ref/sumtot)\n",
    "    "
   ]
  }
 ],
 "metadata": {
  "kernelspec": {
   "display_name": "Python 3",
   "language": "python",
   "name": "python3"
  },
  "language_info": {
   "codemirror_mode": {
    "name": "ipython",
    "version": 3
   },
   "file_extension": ".py",
   "mimetype": "text/x-python",
   "name": "python",
   "nbconvert_exporter": "python",
   "pygments_lexer": "ipython3",
   "version": "3.7.7"
  }
 },
 "nbformat": 4,
 "nbformat_minor": 4
}
