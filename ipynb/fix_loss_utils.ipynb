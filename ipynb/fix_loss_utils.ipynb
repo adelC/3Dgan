{
 "cells": [
  {
   "cell_type": "markdown",
   "metadata": {},
   "source": [
    "# A file to fix the ecal_ang() and ecal_sum() lambda loss term functions\n",
    "## (1) remove keras and (2) allow for different sizing"
   ]
  },
  {
   "cell_type": "code",
   "execution_count": 1,
   "metadata": {},
   "outputs": [],
   "source": [
    "import tensorflow as tf\n",
    "from tensorflow import py_function, float32, Tensor\n",
    "from tensorflow.keras import backend as K\n",
    "import math\n",
    "\n",
    "import numpy as np\n",
    "import tensorflow as tf\n",
    "#from PIL import Image\n",
    "import h5py\n",
    "from numpy import asarray\n",
    "#import cv2"
   ]
  },
  {
   "cell_type": "code",
   "execution_count": 36,
   "metadata": {},
   "outputs": [
    {
     "data": {
      "text/plain": [
       "<tf.Tensor 'Sum_5:0' shape=() dtype=float32>"
      ]
     },
     "execution_count": 36,
     "metadata": {},
     "output_type": "execute_result"
    }
   ],
   "source": [
    "# SIMPLE DEBUGGING VARIABLES\n",
    "#daxis=(1,1)\n",
    "#c = tf.constant([[1.0, 2.0, 4.0], [3.0, 4.0, 5.0]])\n",
    "#c"
   ]
  },
  {
   "cell_type": "code",
   "execution_count": 3,
   "metadata": {},
   "outputs": [],
   "source": [
    "def GetDataAngle(datafile, imgs3dscale =1, imgs3dpower=1, e_pscale = 100, angscale=1, angtype='theta', thresh=1e-4):\n",
    "    print ('Loading Data from .....', datafile)\n",
    "    f = h5py.File(datafile,'r')                    # load data into f variable\n",
    "    ang = np.array(f.get(angtype))                 # ang is an array of angle data from f, one value is concatenated onto the latent vector\n",
    "    imgs3d = np.array(f.get('ECAL'))* imgs3dscale    # imgs3d is a 3d array, cut from the cylinder that the calorimeter produces -has 25 layers along z-axis\n",
    "    e_p = np.array(f.get('energy'))/e_pscale       # e_p is an array of scaled energy data from f, one value is concatenated onto the latent vector\n",
    "    imgs3d[imgs3d < thresh] = 0        # when imgs3d values are less than the threshold, they are reset to 0\n",
    "    \n",
    "    # set imgs3d, e_p, and ang as float 32 datatypes\n",
    "    imgs3d = imgs3d.astype(np.float32)\n",
    "    e_p = e_p.astype(np.float32)\n",
    "    ang = ang.astype(np.float32)\n",
    "    \n",
    "    imgs3d = np.expand_dims(imgs3d, axis=-1)         # insert a new axis at the beginning for imgs3d\n",
    "    \n",
    "    # sum along axis\n",
    "    ecal = np.sum(imgs3d, axis=(1, 2, 3))    # summed imgs3d data, used for training the discriminator\n",
    "     \n",
    "    # imgs3d ^ imgs3dpower\n",
    "    if imgs3dpower !=1.:\n",
    "        imgs3d = np.power(imgs3d, imgs3dpower)\n",
    "            \n",
    "    # imgs3d=ecal data; e_p=energy data; ecal=summed imgs3d (used to train the discriminator); ang=angle data\n",
    "    return imgs3d, e_p, ang, ecal"
   ]
  },
  {
   "cell_type": "code",
   "execution_count": 4,
   "metadata": {},
   "outputs": [
    {
     "name": "stdout",
     "output_type": "stream",
     "text": [
      "Loading Data from ..... Ele_VarAngleMeas_100_200_005.h5\n"
     ]
    }
   ],
   "source": [
    "# load and process the image\n",
    "imgs3d, e_p, ang, ecal = GetDataAngle('Ele_VarAngleMeas_100_200_005.h5')"
   ]
  },
  {
   "cell_type": "code",
   "execution_count": 8,
   "metadata": {},
   "outputs": [
    {
     "data": {
      "text/plain": [
       "TensorShape([51, 51, 25, 1])"
      ]
     },
     "execution_count": 8,
     "metadata": {},
     "output_type": "execute_result"
    }
   ],
   "source": [
    "image = imgs3d[0, :, :, :]\n",
    "#inv_image = Lambda(tf.pow, arguments={'a':1./power})(image) #get back original image\n",
    "power = 1.   # from anglearch discriminator\n",
    "inv_image = tf.math.pow(image, 1./power)\n",
    "inv_image.shape\n",
    "#print(image.tolist())"
   ]
  },
  {
   "cell_type": "code",
   "execution_count": 15,
   "metadata": {},
   "outputs": [],
   "source": [
    "channel = 'channels_last'    # for cpu\n",
    "if channel =='channels_last':\n",
    "    daxis=(1,2,3)\n",
    "    dshape=(51, 51, 25,1)\n",
    "else:\n",
    "    daxis=(2,3,4)\n",
    "    dshape=(1, 51, 51, 25)"
   ]
  },
  {
   "cell_type": "markdown",
   "metadata": {},
   "source": [
    "### Original ecal_sum()"
   ]
  },
  {
   "cell_type": "code",
   "execution_count": 5,
   "metadata": {},
   "outputs": [],
   "source": [
    "# Summming cell energies\n",
    "def ecal_sum(image, power):\n",
    "    image = K.pow(image, 1./power)\n",
    "    sum = K.sum(image, axis=daxis)\n",
    "    return sum"
   ]
  },
  {
   "cell_type": "markdown",
   "metadata": {},
   "source": [
    "### New ecal_sum() \n",
    "#### do i need to multiply by a value for smaller images??"
   ]
  },
  {
   "cell_type": "code",
   "execution_count": 6,
   "metadata": {},
   "outputs": [],
   "source": [
    "# Summming cell energies\n",
    "def ecal_sum(image, power=1.0, channel_included=True, inverted=False):\n",
    "    # pgan image shape will be either (z=shape/2, x=shape, y=shape) or (channel=1, z=shape/2, x=shape, y=shape)\n",
    "    if channel_included:    \n",
    "        image = tf.squeeze(image) # get rid of channel dimension\n",
    "        \n",
    "    # switch dimensions ordering from pgan (z,x,y) back to anglegan (x,y,z)\n",
    "    if size != 51:\n",
    "        image = np.moveaxis(image, 1, -1)   # move z back\n",
    "    # the tensor is now [num_images,x,y,z]\n",
    "    \n",
    "    if not inverted:\n",
    "        # pre-process the image (the og image is inverted in getdataangle())\n",
    "        image = tf.pow(image, 1./power)   \n",
    "    \n",
    "    daxis = (1,2,3)   # (x,y,z)\n",
    "    # sum the values along the daxis\n",
    "    sum = tf.math.reduce_sum(image, daxis)   \n",
    "    return sum"
   ]
  },
  {
   "cell_type": "code",
   "execution_count": 7,
   "metadata": {},
   "outputs": [
    {
     "ename": "NameError",
     "evalue": "name 'inv_image' is not defined",
     "output_type": "error",
     "traceback": [
      "\u001b[1;31m---------------------------------------------------------------------------\u001b[0m",
      "\u001b[1;31mNameError\u001b[0m                                 Traceback (most recent call last)",
      "\u001b[1;32m<ipython-input-7-bd81d1154999>\u001b[0m in \u001b[0;36m<module>\u001b[1;34m\u001b[0m\n\u001b[0;32m      1\u001b[0m \u001b[1;31m# test\u001b[0m\u001b[1;33m\u001b[0m\u001b[1;33m\u001b[0m\u001b[1;33m\u001b[0m\u001b[0m\n\u001b[0;32m      2\u001b[0m \u001b[1;31m#print(tf.Session().run(new_ecal_sum(c, 2)))\u001b[0m\u001b[1;33m\u001b[0m\u001b[1;33m\u001b[0m\u001b[1;33m\u001b[0m\u001b[0m\n\u001b[1;32m----> 3\u001b[1;33m \u001b[0mprint\u001b[0m\u001b[1;33m(\u001b[0m\u001b[0mecal_sum\u001b[0m\u001b[1;33m(\u001b[0m\u001b[0minv_image\u001b[0m\u001b[1;33m,\u001b[0m \u001b[0mdaxis\u001b[0m\u001b[1;33m)\u001b[0m\u001b[1;33m.\u001b[0m\u001b[0mshape\u001b[0m\u001b[1;33m)\u001b[0m\u001b[1;33m\u001b[0m\u001b[1;33m\u001b[0m\u001b[0m\n\u001b[0m\u001b[0;32m      4\u001b[0m \u001b[0mprint\u001b[0m\u001b[1;33m(\u001b[0m\u001b[0mecal_sum\u001b[0m\u001b[1;33m(\u001b[0m\u001b[0minv_image\u001b[0m\u001b[1;33m,\u001b[0m \u001b[0mdaxis\u001b[0m\u001b[1;33m)\u001b[0m\u001b[1;33m)\u001b[0m\u001b[1;33m\u001b[0m\u001b[1;33m\u001b[0m\u001b[0m\n\u001b[0;32m      5\u001b[0m \u001b[0mprint\u001b[0m\u001b[1;33m(\u001b[0m\u001b[0mecal_sum\u001b[0m\u001b[1;33m(\u001b[0m\u001b[0minv_image\u001b[0m\u001b[1;33m,\u001b[0m \u001b[0mdaxis\u001b[0m\u001b[1;33m)\u001b[0m\u001b[1;33m.\u001b[0m\u001b[0mshape\u001b[0m\u001b[1;33m)\u001b[0m\u001b[1;33m\u001b[0m\u001b[1;33m\u001b[0m\u001b[0m\n",
      "\u001b[1;31mNameError\u001b[0m: name 'inv_image' is not defined"
     ]
    }
   ],
   "source": [
    "# test\n",
    "#print(tf.Session().run(new_ecal_sum(c, 2)))\n",
    "print(ecal_sum(inv_image, daxis).shape)\n",
    "print(ecal_sum(inv_image, daxis))\n",
    "print(ecal_sum(inv_image, daxis).shape)\n",
    "print(ecal_sum(inv_image, daxis))"
   ]
  },
  {
   "cell_type": "markdown",
   "metadata": {},
   "source": [
    "### Original ecal_angle()"
   ]
  },
  {
   "cell_type": "code",
   "execution_count": 25,
   "metadata": {},
   "outputs": [],
   "source": [
    "# Calculating angle from image\n",
    "def tf1_ecal_angle(image, power):\n",
    "    print(image.shape)\n",
    "    image = K.squeeze(image, axis=daxis)# squeeze along channel axis\n",
    "    print(image.shape)\n",
    "    # size of ecal\n",
    "    x_shape= K.int_shape(image)[1]\n",
    "    y_shape= K.int_shape(image)[2]\n",
    "    z_shape= K.int_shape(image)[3]\n",
    "    print('shapes: ',x_shape, y_shape, z_shape)\n",
    "    sumtot = K.sum(image, axis=(1,2,3))# sum of events\n",
    "    \n",
    "    # get 1. where event sum is 0 and 0 elsewhere\n",
    "    amask = K.tf.where(tf.math.equal(sumtot, 0.0), K.ones_like(sumtot) , K.zeros_like(sumtot))\n",
    "    masked_events = K.sum(amask) # counting zero sum events\n",
    "    \n",
    "    # ref denotes barycenter as that is our reference point\n",
    "    x_ref = K.sum(K.sum(image, axis=(2,3)) * (K.cast(K.expand_dims(K.arange(x_shape), 0), dtype='float32') + 0.5) , axis=1)# sum for x position * x index\n",
    "    y_ref = K.sum(K.sum(image, axis=(1,3)) * (K.cast(K.expand_dims(K.arange(y_shape), 0), dtype='float32') + 0.5), axis=1)\n",
    "    z_ref = K.sum(K.sum(image, axis=(1,2)) * (K.cast(K.expand_dims(K.arange(z_shape), 0), dtype='float32') + 0.5), axis=1)\n",
    "    x_ref = K.tf.where(K.equal(sumtot, 0.0), K.ones_like(x_ref) , x_ref/sumtot)# return max position if sumtot=0 and divide by sumtot otherwise\n",
    "    y_ref = K.tf.where(K.equal(sumtot, 0.0), K.ones_like(y_ref) , y_ref/sumtot)\n",
    "    z_ref = K.tf.where(K.equal(sumtot, 0.0), K.ones_like(z_ref), z_ref/sumtot)\n",
    "    \n",
    "    # reshape    \n",
    "    x_ref = K.expand_dims(x_ref, 1)\n",
    "    y_ref = K.expand_dims(y_ref, 1)\n",
    "    z_ref = K.expand_dims(z_ref, 1)\n",
    "\n",
    "    sumz = K.sum(image, axis =(1,2)) # sum for x,y planes going along z\n",
    "\n",
    "    # Get 0 where sum along z is 0 and 1 elsewhere\n",
    "    zmask = K.tf.where(K.equal(sumz, 0.0), K.zeros_like(sumz) , K.ones_like(sumz))\n",
    "        \n",
    "    x = K.expand_dims(K.arange(x_shape), 0) # x indexes\n",
    "    x = K.cast(K.expand_dims(x, 2), dtype='float32') + 0.5\n",
    "    y = K.expand_dims(K.arange(y_shape), 0)# y indexes\n",
    "    y = K.cast(K.expand_dims(y, 2), dtype='float32') + 0.5\n",
    "  \n",
    "    # barycenter for each z position\n",
    "    x_mid = K.sum(K.sum(image, axis=2) * x, axis=1)\n",
    "    y_mid = K.sum(K.sum(image, axis=1) * y, axis=1)\n",
    "    x_mid = K.tf.where(K.equal(sumz, 0.0), K.zeros_like(sumz), x_mid/sumz) # if sum != 0 then divide by sum\n",
    "    y_mid = K.tf.where(K.equal(sumz, 0.0), K.zeros_like(sumz), y_mid/sumz) # if sum != 0 then divide by sum\n",
    "\n",
    "    # Angle Calculations\n",
    "    z = (K.cast(K.arange(z_shape), dtype='float32') + 0.5)  * K.ones_like(z_ref) # Make an array of z indexes for all events\n",
    "    zproj = K.sqrt(K.maximum((x_mid-x_ref)**2.0 + (z - z_ref)**2.0, K.epsilon()))# projection from z axis with stability check\n",
    "    m = K.tf.where(K.equal(zproj, 0.0), K.zeros_like(zproj), (y_mid-y_ref)/zproj)# to avoid divide by zero for zproj =0\n",
    "    m = K.tf.where(K.tf.less(z, z_ref),  -1 * m, m)# sign inversion\n",
    "    ang = (math.pi/2.0) - tf.atan(m)# angle correction\n",
    "    zmask = K.tf.where(K.equal(zproj, 0.0), K.zeros_like(zproj) , zmask)\n",
    "    ang = ang * zmask # place zero where zsum is zero\n",
    "    \n",
    "    ang = ang * z  # weighted by position\n",
    "    sumz_tot = z * zmask # removing indexes with 0 energies or angles\n",
    "\n",
    "    #zunmasked = K.sum(zmask, axis=1) # used for simple mean \n",
    "    #ang = K.sum(ang, axis=1)/zunmasked # Mean does not include positions where zsum=0\n",
    "\n",
    "    ang = K.sum(ang, axis=1)/K.sum(sumz_tot, axis=1) # sum ( measured * weights)/sum(weights)\n",
    "    ang = K.tf.where(K.equal(amask, 0.), ang, 100. * K.ones_like(ang)) # Place 100 for measured angle where no energy is deposited in events\n",
    "    \n",
    "    ang = K.expand_dims(ang, 1)\n",
    "    return ang"
   ]
  },
  {
   "cell_type": "code",
   "execution_count": 67,
   "metadata": {},
   "outputs": [],
   "source": [
    "#tf1_ecal_angle(inv_image, 1.0)"
   ]
  },
  {
   "cell_type": "code",
   "execution_count": 8,
   "metadata": {},
   "outputs": [],
   "source": [
    "# Calculating angle from image\n",
    "def tf2_ecal_angle(image, power):\n",
    "    if K.image_data_format() =='channels_last':\n",
    "       image = K.squeeze(image, axis=4)\n",
    "    else:                      # channels first\n",
    "       image = K.squeeze(image, axis=1)\n",
    "    image = K.pow(image, 1./power)\n",
    "    \n",
    "    # size of ecal\n",
    "    x_shape= K.int_shape(image)[1]\n",
    "    y_shape= K.int_shape(image)[2]\n",
    "    z_shape= K.int_shape(image)[3]\n",
    "    print('shapes ------- ', x_shape, y_shape, z_shape)\n",
    "    sumtot = K.sum(image, axis=(1,2,3))# sum of events\n",
    "    \n",
    "    # get 1. where event sum is 0 and 0 elsewhere\n",
    "    amask = tf.where(K.equal(sumtot, 0.0), K.ones_like(sumtot) , K.zeros_like(sumtot))\n",
    "    masked_events = K.sum(amask) # counting zero sum events\n",
    "    \n",
    "    # ref denotes barycenter as that is our reference point\n",
    "    x_ref = K.sum(K.sum(image, axis=(2,3)) * (K.cast(K.expand_dims(K.arange(x_shape), 0), dtype='float32') + 0.5) , axis=1)# sum for x position * x index\n",
    "    y_ref = K.sum(K.sum(image, axis=(1,3)) * (K.cast(K.expand_dims(K.arange(y_shape), 0), dtype='float32') + 0.5), axis=1)\n",
    "    z_ref = K.sum(K.sum(image, axis=(1,2)) * (K.cast(K.expand_dims(K.arange(z_shape), 0), dtype='float32') + 0.5), axis=1)\n",
    "    x_ref = tf.where(K.equal(sumtot, 0.0), K.ones_like(x_ref) , x_ref/sumtot)# return max position if sumtot=0 and divide by sumtot otherwise\n",
    "    y_ref = tf.where(K.equal(sumtot, 0.0), K.ones_like(y_ref) , y_ref/sumtot)\n",
    "    z_ref = tf.where(K.equal(sumtot, 0.0), K.ones_like(z_ref), z_ref/sumtot)\n",
    "    \n",
    "    #reshape    \n",
    "    x_ref = K.expand_dims(x_ref, 1)\n",
    "    y_ref = K.expand_dims(y_ref, 1)\n",
    "    z_ref = K.expand_dims(z_ref, 1)\n",
    "\n",
    "    sumz = K.sum(image, axis =(1,2)) # sum for x,y planes going along z\n",
    "\n",
    "    # Get 0 where sum along z is 0 and 1 elsewhere\n",
    "    zmask = tf.where(K.equal(sumz, 0.0), K.zeros_like(sumz) , K.ones_like(sumz))\n",
    "        \n",
    "    x = K.expand_dims(K.arange(x_shape), 0) # x indexes\n",
    "    x = K.cast(K.expand_dims(x, 2), dtype='float32') + 0.5\n",
    "    y = K.expand_dims(K.arange(y_shape), 0)# y indexes\n",
    "    y = K.cast(K.expand_dims(y, 2), dtype='float32') + 0.5\n",
    "  \n",
    "    # barycenter for each z position\n",
    "    x_mid = K.sum(K.sum(image, axis=2) * x, axis=1)\n",
    "    y_mid = K.sum(K.sum(image, axis=1) * y, axis=1)\n",
    "    x_mid = tf.where(K.equal(sumz, 0.0), K.zeros_like(sumz), x_mid/sumz) # if sum != 0 then divide by sum\n",
    "    y_mid = tf.where(K.equal(sumz, 0.0), K.zeros_like(sumz), y_mid/sumz) # if sum != 0 then divide by sum\n",
    "\n",
    "    # Angle Calculations\n",
    "    z = (K.cast(K.arange(z_shape), dtype='float32') + 0.5)  * K.ones_like(z_ref) # Make an array of z indexes for all events\n",
    "    zproj = K.sqrt(K.maximum((x_mid-x_ref)**2.0 + (z - z_ref)**2.0, K.epsilon()))# projection from z axis with stability check\n",
    "    m = tf.where(K.equal(zproj, 0.0), K.zeros_like(zproj), (y_mid-y_ref)/zproj)# to avoid divide by zero for zproj =0\n",
    "    m = tf.where(tf.less(z, z_ref),  -1 * m, m)# sign inversion\n",
    "    ang = (math.pi/2.0) - tf.atan(m)# angle correction\n",
    "    zmask = tf.where(K.equal(zproj, 0.0), K.zeros_like(zproj) , zmask)\n",
    "    ang = ang * zmask # place zero where zsum is zero\n",
    "    \n",
    "    ang = ang * z  # weighted by position\n",
    "    sumz_tot = z * zmask # removing indexes with 0 energies or angles\n",
    "\n",
    "    #zunmasked = K.sum(zmask, axis=1) # used for simple mean \n",
    "    #ang = K.sum(ang, axis=1)/zunmasked # Mean does not include positions where zsum=0\n",
    "\n",
    "    ang = K.sum(ang, axis=1)/K.sum(sumz_tot, axis=1) # sum ( measured * weights)/sum(weights)\n",
    "    ang = tf.where(K.equal(amask, 0.), ang, 100. * K.ones_like(ang)) # Place 100 for measured angle where no energy is deposited in events\n",
    "    \n",
    "    ang = K.expand_dims(ang, 1)\n",
    "    return ang"
   ]
  },
  {
   "cell_type": "code",
   "execution_count": 9,
   "metadata": {},
   "outputs": [
    {
     "name": "stdout",
     "output_type": "stream",
     "text": [
      "shapes -------  51 51 25\n"
     ]
    },
    {
     "data": {
      "text/plain": [
       "<tf.Tensor: shape=(5000, 1), dtype=float32, numpy=\n",
       "array([[1.3089745],\n",
       "       [1.1618682],\n",
       "       [1.1150758],\n",
       "       ...,\n",
       "       [1.6336285],\n",
       "       [1.6282631],\n",
       "       [1.8434817]], dtype=float32)>"
      ]
     },
     "execution_count": 9,
     "metadata": {},
     "output_type": "execute_result"
    }
   ],
   "source": [
    "image = imgs3d[0]\n",
    "tf2_ecal_angle(imgs3d, 1.0)"
   ]
  },
  {
   "cell_type": "markdown",
   "metadata": {},
   "source": [
    "### new ecal_angle() -- accounting for different sizes & no keras -- in progress"
   ]
  },
  {
   "cell_type": "code",
   "execution_count": 10,
   "metadata": {},
   "outputs": [],
   "source": [
    "# Calculating angle from image -- called in conditional lambda layer for the discriminator\n",
    "def ecal_angle(image, size, power=1.0, channel_included=True, inverted=False):\n",
    "    # pgan image shape will be either (z=shape/2, x=shape, y=shape) or (channel=1, z=shape/2, x=shape, y=shape)\n",
    "    if channel_included:    \n",
    "        image = tf.squeeze(image) # get rid of channel dimension\n",
    "        \n",
    "    # switch dimensions ordering from pgan (z,x,y) back to anglegan (x,y,z)\n",
    "    if size != 51:\n",
    "        image = np.moveaxis(image, 1, -1)   # move z back\n",
    "    \n",
    "    xdim, ydim, zdim = 1,2,3   # the tensor is now [num_images,x,y,z]\n",
    "    \n",
    "    if not inverted:\n",
    "        # pre-process the image (the og image is inverted in getdataangle())\n",
    "        image = tf.pow(image, 1./power)   \n",
    "     \n",
    "    # size of ecal\n",
    "    x_shape, y_shape, z_shape = int(size), int(size), int(size/2)\n",
    "    print('shapes ----- ', x_shape, y_shape, z_shape )\n",
    "    sumtot = tf.math.reduce_sum(image, (1,2,3))# sum of events\n",
    "    print('sumtot: ', sumtot)\n",
    "    \n",
    "    # get 1. where event sum is 0 and 0 elsewhere\n",
    "    amask = tf.where(tf.math.equal(sumtot, 0.0), tf.ones_like(sumtot) , tf.zeros_like(sumtot))\n",
    "    masked_events = tf.math.reduce_sum(amask) # counting zero sum events\n",
    "    \n",
    "    # ref denotes barycenter as that is our reference point\n",
    "    x_ref = tf.math.reduce_sum(tf.math.reduce_sum(image, (2,3)) * (tf.cast(tf.expand_dims(tf.range(x_shape), 0), dtype='float32') + 0.5), axis=1)# sum for x position * x index\n",
    "    y_ref = tf.math.reduce_sum(tf.math.reduce_sum(image, (1,3)) * (tf.cast(tf.expand_dims(tf.range(y_shape), 0), dtype='float32') + 0.5), axis=1)\n",
    "    z_ref = tf.math.reduce_sum(tf.math.reduce_sum(image, (1,2)) * (tf.cast(tf.expand_dims(tf.range(z_shape), 0), dtype='float32') + 0.5), axis=1)\n",
    "    # return max position if sumtot=0 and divide by sumtot otherwise\n",
    "    x_ref = tf.where(tf.math.equal(sumtot, 0.0), tf.ones_like(x_ref), x_ref/sumtot)\n",
    "    y_ref = tf.where(tf.math.equal(sumtot, 0.0), tf.ones_like(y_ref), y_ref/sumtot)\n",
    "    z_ref = tf.where(tf.math.equal(sumtot, 0.0), tf.ones_like(z_ref), z_ref/sumtot)\n",
    "    \n",
    "    # reshape - put in value at the beginning    \n",
    "    x_ref = tf.expand_dims(x_ref, 1)\n",
    "    y_ref = tf.expand_dims(y_ref, 1)\n",
    "    z_ref = tf.expand_dims(z_ref, 1)\n",
    "\n",
    "    sumz = tf.math.reduce_sum(image, axis =(1,2)) # sum for x,y planes going along z\n",
    "\n",
    "    # Get 0 where sum along z is 0 and 1 elsewhere\n",
    "    zmask = tf.where(tf.math.equal(sumz, 0.0), tf.zeros_like(sumz) , tf.ones_like(sumz))\n",
    "        \n",
    "    x = tf.expand_dims(tf.range(x_shape), 0) # x indexes\n",
    "    x = tf.cast(tf.expand_dims(x, 2), dtype='float32') + 0.5\n",
    "    y = tf.expand_dims(tf.range(y_shape), 0)# y indexes\n",
    "    y = tf.cast(tf.expand_dims(y, 2), dtype='float32') + 0.5\n",
    "  \n",
    "    # barycenter for each z position\n",
    "    x_mid = tf.math.reduce_sum(tf.math.reduce_sum(image, axis=2) * x, axis=1)\n",
    "    y_mid = tf.math.reduce_sum(tf.math.reduce_sum(image, axis=1) * y, axis=1)\n",
    "    x_mid = tf.where(tf.math.equal(sumz, 0.0), tf.zeros_like(sumz), x_mid/sumz) # if sum != 0 then divide by sum\n",
    "    y_mid = tf.where(tf.math.equal(sumz, 0.0), tf.zeros_like(sumz), y_mid/sumz) # if sum != 0 then divide by sum\n",
    "\n",
    "    # Angle Calculations\n",
    "    z = (tf.cast(tf.range(z_shape), dtype='float32') + 0.5)  * tf.ones_like(z_ref) # Make an array of z indexes for all events\n",
    "    epsilon = 0.0000007  # replaces k.epsilon(), used as fluff value to prevent /0 errors\n",
    "    zproj = tf.math.sqrt(tf.math.maximum((x_mid-x_ref)**2.0 + (z - z_ref)**2.0, epsilon))# projection from z axis with stability check\n",
    "    m = tf.where(tf.math.equal(zproj, 0.0), tf.zeros_like(zproj), (y_mid-y_ref)/zproj)# to avoid divide by zero for zproj =0\n",
    "    m = tf.where(tf.math.less(z, z_ref),  -1 * m, m)   # sign inversion\n",
    "    ang = (math.pi/2.0) - tf.atan(m)   # angle correction\n",
    "    zmask = tf.where(tf.math.equal(zproj, 0.0), tf.zeros_like(zproj), zmask)\n",
    "    ang = ang * zmask # place zero where zsum is zero\n",
    "    \n",
    "    ang = ang * z  # weighted by position\n",
    "    sumz_tot = z * zmask # removing indexes with 0 energies or angles\n",
    "\n",
    "    #zunmasked = tf.math.reduce_sum(zmask, axis=1) # used for simple mean \n",
    "    #ang = tf.math.reduce_sum(ang, axis=1)/zunmasked # Mean does not include positions where zsum=0\n",
    "\n",
    "    ang = tf.math.reduce_sum(ang, axis=1)/tf.math.reduce_sum(sumz_tot, axis=1) # sum ( measured * weights)/sum(weights)\n",
    "    ang = tf.where(tf.math.equal(amask, 0.), ang, 100. * tf.ones_like(ang)) # Place 100 for measured angle where no energy is deposited in events\n",
    "    \n",
    "    ang = tf.expand_dims(ang, 1)\n",
    "    return ang"
   ]
  },
  {
   "cell_type": "code",
   "execution_count": 16,
   "metadata": {},
   "outputs": [
    {
     "name": "stdout",
     "output_type": "stream",
     "text": [
      "shapes -----  51 51 25\n",
      "sumtot:  tf.Tensor([150.78053 109.73003 192.05147 ... 131.63718 144.31905 197.36601], shape=(5000,), dtype=float32)\n"
     ]
    },
    {
     "ename": "MemoryError",
     "evalue": "Unable to allocate 4.88 GiB for an array with shape (5000, 64, 64, 32) and data type float64",
     "output_type": "error",
     "traceback": [
      "\u001b[1;31m---------------------------------------------------------------------------\u001b[0m",
      "\u001b[1;31mMemoryError\u001b[0m                               Traceback (most recent call last)",
      "\u001b[1;32m<ipython-input-16-629b02092978>\u001b[0m in \u001b[0;36m<module>\u001b[1;34m\u001b[0m\n\u001b[0;32m      2\u001b[0m \u001b[0mimgs3d\u001b[0m\u001b[1;33m.\u001b[0m\u001b[0mshape\u001b[0m \u001b[1;31m#51\u001b[0m\u001b[1;33m\u001b[0m\u001b[1;33m\u001b[0m\u001b[0m\n\u001b[0;32m      3\u001b[0m \u001b[0mnew_ecal_angle\u001b[0m\u001b[1;33m(\u001b[0m\u001b[0mimgs3d\u001b[0m\u001b[1;33m,\u001b[0m \u001b[1;36m51\u001b[0m\u001b[1;33m,\u001b[0m \u001b[1;36m1.0\u001b[0m\u001b[1;33m)\u001b[0m\u001b[1;31m#, daxis)\u001b[0m\u001b[1;33m\u001b[0m\u001b[1;33m\u001b[0m\u001b[0m\n\u001b[1;32m----> 4\u001b[1;33m \u001b[0mimgs3d_64\u001b[0m \u001b[1;33m=\u001b[0m \u001b[0mresize\u001b[0m\u001b[1;33m(\u001b[0m\u001b[0mimgs3d\u001b[0m\u001b[1;33m,\u001b[0m \u001b[1;36m64\u001b[0m\u001b[1;33m)\u001b[0m\u001b[1;33m\u001b[0m\u001b[1;33m\u001b[0m\u001b[0m\n\u001b[0m\u001b[0;32m      5\u001b[0m \u001b[0mnew_ecal_angle\u001b[0m\u001b[1;33m(\u001b[0m\u001b[0mimgs3d_64\u001b[0m\u001b[1;33m,\u001b[0m \u001b[1;36m64\u001b[0m\u001b[1;33m,\u001b[0m \u001b[1;36m1.0\u001b[0m\u001b[1;33m)\u001b[0m\u001b[1;31m#, daxis)\u001b[0m\u001b[1;33m\u001b[0m\u001b[1;33m\u001b[0m\u001b[0m\n\u001b[0;32m      6\u001b[0m \u001b[1;31m#imgs3d_16 = resize(imgs3d, 16)\u001b[0m\u001b[1;33m\u001b[0m\u001b[1;33m\u001b[0m\u001b[1;33m\u001b[0m\u001b[0m\n",
      "\u001b[1;32m<ipython-input-15-3d7aa31ed030>\u001b[0m in \u001b[0;36mresize\u001b[1;34m(imgs3d, size, mode)\u001b[0m\n\u001b[0;32m     25\u001b[0m \u001b[1;33m\u001b[0m\u001b[0m\n\u001b[0;32m     26\u001b[0m     \u001b[1;32mif\u001b[0m \u001b[0mmode\u001b[0m \u001b[1;33m==\u001b[0m \u001b[1;34m'rectangle'\u001b[0m\u001b[1;33m:\u001b[0m\u001b[1;33m\u001b[0m\u001b[1;33m\u001b[0m\u001b[0m\n\u001b[1;32m---> 27\u001b[1;33m         \u001b[0mresized_imgs3d\u001b[0m \u001b[1;33m=\u001b[0m \u001b[0mnp\u001b[0m\u001b[1;33m.\u001b[0m\u001b[0mzeros\u001b[0m\u001b[1;33m(\u001b[0m\u001b[1;33m(\u001b[0m\u001b[0mnmbr_of_images\u001b[0m\u001b[1;33m,\u001b[0m \u001b[0msize\u001b[0m\u001b[1;33m,\u001b[0m \u001b[0msize\u001b[0m\u001b[1;33m,\u001b[0m \u001b[0mint\u001b[0m\u001b[1;33m(\u001b[0m\u001b[0msize\u001b[0m\u001b[1;33m/\u001b[0m\u001b[1;36m2\u001b[0m\u001b[1;33m)\u001b[0m\u001b[1;33m)\u001b[0m\u001b[1;33m)\u001b[0m    \u001b[1;31m# create an array to hold all nmbr_of_images resized imgs3d\u001b[0m\u001b[1;33m\u001b[0m\u001b[1;33m\u001b[0m\u001b[0m\n\u001b[0m\u001b[0;32m     28\u001b[0m \u001b[1;33m\u001b[0m\u001b[0m\n\u001b[0;32m     29\u001b[0m         \u001b[1;32mfor\u001b[0m \u001b[0mnum_img\u001b[0m \u001b[1;32min\u001b[0m \u001b[0mnp\u001b[0m\u001b[1;33m.\u001b[0m\u001b[0marange\u001b[0m\u001b[1;33m(\u001b[0m\u001b[0mnmbr_of_images\u001b[0m\u001b[1;33m)\u001b[0m\u001b[1;33m:\u001b[0m         \u001b[1;31m# index through the nmbr_of_images 3d images packed in\u001b[0m\u001b[1;33m\u001b[0m\u001b[1;33m\u001b[0m\u001b[0m\n",
      "\u001b[1;31mMemoryError\u001b[0m: Unable to allocate 4.88 GiB for an array with shape (5000, 64, 64, 32) and data type float64"
     ]
    }
   ],
   "source": [
    "# TESTING\n",
    "imgs3d.shape #51\n",
    "new_ecal_angle(imgs3d, 51, 1.0)#, daxis)\n",
    "imgs3d_64 = resize(imgs3d, 64)\n",
    "new_ecal_angle(imgs3d_64, 64, 1.0)#, daxis)\n",
    "#imgs3d_16 = resize(imgs3d, 16)\n",
    "#print('resized to 16')\n",
    "#new_ecal_angle(imgs3d_16, 16, 1.0)#, daxis)"
   ]
  },
  {
   "cell_type": "code",
   "execution_count": 15,
   "metadata": {},
   "outputs": [],
   "source": [
    "#from PIL import Image\n",
    "import h5py\n",
    "from numpy import asarray\n",
    "#import cv2\n",
    "def resize(imgs3d, size, mode='rectangle'):\n",
    "    \"\"\"Short summary.\n",
    "\n",
    "    Parameters\n",
    "    ----------\n",
    "    imgs3d : type\n",
    "        Description of parameter `imgs3d`.\n",
    "    size : type\n",
    "        Description of parameter `size`.\n",
    "    mode : type\n",
    "        Description of parameter `mode`.\n",
    "\n",
    "    Returns\n",
    "    -------\n",
    "    type\n",
    "        Description of returned object.\n",
    "\n",
    "    \"\"\"\n",
    "    imgs3d = imgs3d[:, :, :, :, 0]    # drop the channels dimension\n",
    "    nmbr_of_images = len(imgs3d)\n",
    "\n",
    "    if mode == 'rectangle':\n",
    "        resized_imgs3d = np.zeros((nmbr_of_images, size, size, int(size/2)))    # create an array to hold all nmbr_of_images resized imgs3d\n",
    "\n",
    "        for num_img in np.arange(nmbr_of_images):         # index through the nmbr_of_images 3d images packed in\n",
    "            img3d = imgs3d[num_img, :, :, :]    # grab an individual [51,51,25] 3d image\n",
    "\n",
    "            # pad centrally with zeroes to [64x64x32], do this step first so that the framing is the same for all images\n",
    "            resized_img3d = np.pad(img3d, ((7,6), (7,6), (4,3)), mode='minimum')\n",
    "\n",
    "            if size == 64:   # put in the padded image [64,64,32]\n",
    "                resized_imgs3d[num_img, :, :, :] = resized_img3d\n",
    "\n",
    "            else:   # size < 64: we need to zoom out to lower the resolution\n",
    "                # resize XY-plane to (size x size)\n",
    "                xy_resized_img3d = np.zeros((size, size, 25))   # create an empty 3d_image to store changes\n",
    "                for z_index in np.arange(25):    # index through the 25 calorimeter layers of the z-axis\n",
    "                    img2d = img3d[:, :, z_index]   # grab a 2d image from the xy plane\n",
    "                    resized_img2d = cv2.resize(img2d, dsize=(size, size), interpolation=cv2.INTER_NEAREST)\n",
    "                    xy_resized_img3d[:, :, z_index] = resized_img2d   # save our resized_img2d in the img3d corresponding to the calorimeter layer\n",
    "\n",
    "                # resize YZ-plane to (size x size/2)\n",
    "                resized_img3d = np.zeros((size, size, int(size/2)))   # create an empty 3d_image to store changes            # resize YZ-plane to (size,size)=square or (size,size/2)=rectangle\n",
    "                for x_index in np.arange(size):    # index through the x-axis\n",
    "                    img2d = xy_resized_img3d[x_index, :, :]\n",
    "                    resized_img2d = cv2.resize(img2d, dsize=(int(size/2), size), interpolation=cv2.INTER_NEAREST)\n",
    "                    resized_img3d[x_index, :, :] = resized_img2d   # save our resized_img2d in the img3d corresponding to the x layer\n",
    "\n",
    "            # save the resized 3d image in the matrix holding all nmbr_of_images 3d images\n",
    "            resized_imgs3d[num_img, :, :, :] = resized_img3d\n",
    "\n",
    "    elif mode == 'square':\n",
    "        if size == 64:\n",
    "            print('ERROR - Square mode is not compatible with size 64! The max size for square mode is 32.')\n",
    "        else:\n",
    "            resized_imgs3d = np.zeros((nmbr_of_images, size, size, size)) # create an array to hold all nmbr_of_images resized imgs3d\n",
    "\n",
    "            for num_img in np.arange(nmbr_of_images):     # index through the nmbr_of_images 3d images packed in\n",
    "                img3d = imgs3d[num_img, :, :, :]    # grab an individual [51,51,25] 3d image\n",
    "\n",
    "                img3d = np.pad(img3d, ((0,0), (0,0), (4,3)), mode='minimum') # pad centrally with zeroes to [51x51x32]\n",
    "\n",
    "                # resize XY-plane to (size x size)\n",
    "                xy_resized_img3d = np.zeros((size, size, 25))   # create an empty 3d_image to store changes\n",
    "                for z_index in np.arange(25):    # index through the 25 calorimeter layers of the z-axis\n",
    "                    img2d = img3d[:, :, z_index]   # grab a 2d image from the xy plane\n",
    "                    resized_img2d = cv2.resize(img2d, dsize=(size, size), interpolation=cv2.INTER_NEAREST)\n",
    "                    xy_resized_img3d[:, :, z_index] = resized_img2d   # save our resized_img2d in the img3d corresponding to the calorimeter layer\n",
    "\n",
    "                # resize YZ-plane to (size x size)\n",
    "                resized_img3d = np.zeros((size, size, size))   # create an empty 3d_image to store changes\n",
    "                for x_index in np.arange(size):    # index through the 51 values of x-axis\n",
    "                    img2d = xy_resized_img3d[x_index, :, :]\n",
    "                    resized_img2d = cv2.resize(img2d, dsize=(size, size), interpolation=cv2.INTER_NEAREST)\n",
    "                    resized_img3d[x_index, :, :] = resized_img2d   # save our resized_img2d in the img3d corresponding to the x layer\n",
    "\n",
    "                # save our 3d image in the matrix holding all nmbr_of_images 3d images\n",
    "                resized_imgs3d[num_img, :, :, :] = resized_img3d\n",
    "\n",
    "    # reorganize dimensions: (num_imgs, x,y,z) --> (num_imgs, z,x,y)\n",
    "    print(\"before &&&& :\", resized_imgs3d.shape)\n",
    "    resized_imgs3d = np.moveaxis(resized_imgs3d, 3, 1)\n",
    "    print(\"after  &&&& :\", resized_imgs3d.shape)\n",
    "\n",
    "    return resized_imgs3d   # returns a [nmbr_of_images, size||size/2, size, size] np.array matrix that is nmbr_of_images 3d images [size||size/2, size, size]"
   ]
  },
  {
   "cell_type": "markdown",
   "metadata": {},
   "source": [
    "### new ecal_angle() -- converts to og size -- in progress, currently only works with 64-->OG"
   ]
  },
  {
   "cell_type": "code",
   "execution_count": 112,
   "metadata": {},
   "outputs": [],
   "source": [
    "# Function that takes in the pgan generated 3d images of size [nmbr_of_images, 32, 64, 64] and resizes them to the desired [nmbr_of_images, 51, 51, 25] OG shape\n",
    "# include channels changes??? -- may need to debug if channels value is included in pgan_imgs\n",
    "def restore_pics(pgan_imgs3d):\n",
    "    # matrix dimensions: [nmbr_of_images, 32, 64, 64] --> [nmbr_of_images, 51, 51, 25]\n",
    "    og_dim_imgs3d = np.moveaxis(pgan_imgs3d, 1, -1)   # move z: [nmbr_of_images, 64, 64, 32]\n",
    "    og_dim_imgs3d = og_dim_imgs3d[:, 7:58, 7:58, 4:29]   # crop centrally (corresponding to resize()) to og_dimensions 51x51x25\n",
    "    return og_dim_imgs3d\n",
    "\n",
    "def restore_pic(image, size):\n",
    "    # matrix dimensions: [32, 64, 64] --> [51, 51, 25]\n",
    "    restored_image = np.moveaxis(image, 0, -1)   # move z back: [x,y,z]\n",
    "    if size == 64:\n",
    "        restored_image = restored_image[7:58, 7:58, 4:29]   # crop centrally (corresponding to resize()) to og_dimensions 51x51x25\n",
    "    else: # size = 8, 16, 32\n",
    "                # resize XY-plane to (size x size)\n",
    "                xy_restored_image = np.zeros((51,51,size/2))   # create an empty 3d_image to store changes\n",
    "                for z_index in np.arange(inte(size/2)):    # index through the 25 calorimeter layers of the z-axis\n",
    "                    img2d = restored_image[:, :, z_index]   # grab a 2d image from the xy plane\n",
    "                    resized_img2d = cv2.resize(img2d, dsize=(51,51), interpolation=cv2.INTER_NEAREST)\n",
    "                    xy_restored_image[:, :, z_index] = resized_img2d   # save our resized_img2d in the img3d corresponding to the calorimeter layer\n",
    "\n",
    "                # resize YZ-plane to (size x size/2)\n",
    "                restored_image = np.zeros((size, size, int(size/2)))   # create an empty 3d_image to store changes            # resize YZ-plane to (size,size)=square or (size,size/2)=rectangle\n",
    "                for x_index in np.arange(size):    # index through the x-axis\n",
    "                    img2d = xy_restored_image[x_index, :, :]\n",
    "                    resized_img2d = cv2.resize(img2d, dsize=(int(size/2), size), interpolation=cv2.INTER_NEAREST)\n",
    "                    restored_image[x_index, :, :] = resized_img2d   # save our resized_img2d in the img3d corresponding to the x layer\n",
    "    return restored_image"
   ]
  },
  {
   "cell_type": "code",
   "execution_count": null,
   "metadata": {},
   "outputs": [],
   "source": [
    "# Calculating angle from image\n",
    "def ecal_angle(image, size, channel_included=False, inverted=True):#, daxis):\n",
    "    # pgan image shape will be either (z=shape/2, x=shape, y=shape) or (channel=1, z=shape/2, x=shape, y=shape)\n",
    "    if channel_included:    \n",
    "        image = tf.squeeze(image) # get rid of channel dimension\n",
    "    \n",
    "    # convert pgan image [32,64,64] to OG [51,51,25] size\n",
    "    image = restore_pic(image, size)\n",
    "    xdim, ydim, zdim = 0, 1, 2  \n",
    "    \n",
    "    if not inverted:\n",
    "        # pre-process the image (the og image is inverted in getdataangle())\n",
    "        image = tf.pow(image, 1./power)   \n",
    "    \n",
    "    # size of ecal\n",
    "    x_shape, y_shape, z_shape = 51, 51, 25\n",
    "    sumtot = tf.math.reduce_sum(image, (xdim,ydim,zdim))# sum of events\n",
    "\n",
    "    # get 1. where event sum is 0 and 0 elsewhere\n",
    "    amask = tf.where(tf.math.equal(sumtot, 0.0), tf.ones_like(sumtot) , tf.zeros_like(sumtot))\n",
    "    masked_events = tf.math.reduce_sum(amask) # counting zero sum events\n",
    "    \n",
    "    # ref denotes barycenter as that is our reference point\n",
    "    x_ref = tf.math.reduce_sum(tf.math.reduce_sum(image, (ydim,zdim)) * (tf.cast(tf.expand_dims(tf.range(x_shape), 0), dtype='float32') + 0.5), xdim)# sum for x position * x index\n",
    "    y_ref = tf.math.reduce_sum(tf.math.reduce_sum(image, (xdim,zdim)) * (tf.cast(tf.expand_dims(tf.range(y_shape), 0), dtype='float32') + 0.5), xdim)\n",
    "    z_ref = tf.math.reduce_sum(tf.math.reduce_sum(image, (xdim,ydim)) * (tf.cast(tf.expand_dims(tf.range(z_shape), 0), dtype='float32') + 0.5), xdim)\n",
    "    # return max position if sumtot=0 and divide by sumtot otherwise\n",
    "    x_ref = tf.where(tf.math.equal(sumtot, 0.0), tf.ones_like(x_ref), x_ref/sumtot)\n",
    "    y_ref = tf.where(tf.math.equal(sumtot, 0.0), tf.ones_like(y_ref), y_ref/sumtot)\n",
    "    z_ref = tf.where(tf.math.equal(sumtot, 0.0), tf.ones_like(z_ref), z_ref/sumtot)\n",
    "    \n",
    "    # reshape - put in value at the beginning    \n",
    "    x_ref = tf.expand_dims(x_ref, 0)\n",
    "    y_ref = tf.expand_dims(y_ref, 0)\n",
    "    z_ref = tf.expand_dims(z_ref, 0)\n",
    "\n",
    "    sumz = tf.math.reduce_sum(image, axis =(xdim,ydim)) # sum for x,y planes going along z\n",
    "\n",
    "    # Get 0 where sum along z is 0 and 1 elsewhere\n",
    "    zmask = tf.where(tf.math.equal(sumz, 0.0), tf.zeros_like(sumz) , tf.ones_like(sumz))\n",
    "        \n",
    "    x = tf.expand_dims(tf.range(x_shape), 0) # x indexes\n",
    "    x = tf.cast(tf.expand_dims(x, 1), dtype='float32') + 0.5\n",
    "    y = tf.expand_dims(tf.range(y_shape), 0)# y indexes\n",
    "    y = tf.cast(tf.expand_dims(y, 1), dtype='float32') + 0.5\n",
    "  \n",
    "    # barycenter for each z position\n",
    "    x_mid = tf.math.reduce_sum(tf.math.reduce_sum(image, axis=1) * x, axis=0)\n",
    "    y_mid = tf.math.reduce_sum(tf.math.reduce_sum(image, axis=0) * y, axis=0)\n",
    "    x_mid = tf.where(tf.math.equal(sumz, 0.0), tf.zeros_like(sumz), x_mid/sumz) # if sum != 0 then divide by sum\n",
    "    y_mid = tf.where(tf.math.equal(sumz, 0.0), tf.zeros_like(sumz), y_mid/sumz) # if sum != 0 then divide by sum\n",
    "\n",
    "    # Angle Calculations\n",
    "    z = (tf.cast(tf.range(z_shape), dtype='float32') + 0.5)  * tf.ones_like(z_ref) # Make an array of z indexes for all events\n",
    "    epsilon = 0.0000007  # replaces k.epsilon(), used as fluff value to prevent /0 errors\n",
    "    zproj = tf.math.sqrt(tf.math.maximum((x_mid-x_ref)**2.0 + (z - z_ref)**2.0, epsilon))# projection from z axis with stability check\n",
    "    m = tf.where(tf.math.equal(zproj, 0.0), tf.zeros_like(zproj), (y_mid-y_ref)/zproj)# to avoid divide by zero for zproj =0\n",
    "    m = tf.where(tf.math.less(z, z_ref),  -1 * m, m)   # sign inversion\n",
    "    ang = (math.pi/2.0) - tf.atan(m)   # angle correction\n",
    "    zmask = tf.where(tf.math.equal(zproj, 0.0), tf.zeros_like(zproj), zmask)\n",
    "    ang = ang * zmask # place zero where zsum is zero\n",
    "    \n",
    "    ang = ang * z  # weighted by position\n",
    "    sumz_tot = z * zmask # removing indexes with 0 energies or angles\n",
    "\n",
    "    #zunmasked = tf.math.reduce_sum(zmask, axis=1) # used for simple mean \n",
    "    #ang = tf.math.reduce_sum(ang, axis=1)/zunmasked # Mean does not include positions where zsum=0\n",
    "\n",
    "    ang = tf.math.reduce_sum(ang, axis=0)/tf.math.reduce_sum(sumz_tot, axis=0) # sum ( measured * weights)/sum(weights)\n",
    "    ang = tf.where(tf.math.equal(amask, 0.), ang, 100. * tf.ones_like(ang)) # Place 100 for measured angle where no energy is deposited in events\n",
    "    \n",
    "    ang = tf.expand_dims(ang, 0)\n",
    "    return ang"
   ]
  },
  {
   "cell_type": "code",
   "execution_count": null,
   "metadata": {},
   "outputs": [],
   "source": [
    "# !!!NEEDS WORK!!! prep the images for the fake layer in logistic loss function\n",
    "def prep_dnn(real_image_input):\n",
    "    image = Input(shape=dshape) \n",
    "    h = Flatten()(image)\n",
    "    dnn = Model(image, h) # h is flattened x from line 150 in anglegan discriminator = anglearch3dgan.py\n",
    "    dnn.summary()\n",
    "    # Output\n",
    "    dnn_out = dnn(image)\n",
    "    return dnn_out"
   ]
  }
 ],
 "metadata": {
  "kernelspec": {
   "display_name": "Python 3",
   "language": "python",
   "name": "python3"
  },
  "language_info": {
   "codemirror_mode": {
    "name": "ipython",
    "version": 3
   },
   "file_extension": ".py",
   "mimetype": "text/x-python",
   "name": "python",
   "nbconvert_exporter": "python",
   "pygments_lexer": "ipython3",
   "version": "3.8.5"
  }
 },
 "nbformat": 4,
 "nbformat_minor": 4
}
